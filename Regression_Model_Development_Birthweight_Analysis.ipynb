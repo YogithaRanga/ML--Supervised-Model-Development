{
 "cells": [
  {
   "cell_type": "markdown",
   "id": "4c27d318",
   "metadata": {},
   "source": [
    "## Data Exploration and Feature Engineering\n",
    "\n",
    "### Import necessary Libraries and Packages"
   ]
  },
  {
   "cell_type": "code",
   "execution_count": 1,
   "id": "c5883d41",
   "metadata": {
    "scrolled": true
   },
   "outputs": [],
   "source": [
    "# Importing required libraries and packages\n",
    "import pandas as pd # data science essentials\n",
    "import matplotlib.pyplot as plt # essential graphical output\n",
    "import seaborn as sns # enhanced graphical output\n",
    "from sklearn.model_selection import train_test_split # train test split\n",
    "import statsmodels.formula.api as smf # predictive modeling with nice output\n",
    "from sklearn.linear_model import LinearRegression\n",
    "import numpy as np # mathematical essentials\n",
    "import sklearn as sk \n",
    "from sklearn.neighbors import KNeighborsRegressor # KNN for Regression\n",
    "from sklearn.preprocessing import StandardScaler # standard scaler"
   ]
  },
  {
   "cell_type": "markdown",
   "id": "493ea324",
   "metadata": {},
   "source": [
    "### Loading the dataset"
   ]
  },
  {
   "cell_type": "code",
   "execution_count": 2,
   "id": "b82a9aa4",
   "metadata": {
    "scrolled": true
   },
   "outputs": [
    {
     "data": {
      "text/html": [
       "<div>\n",
       "<style scoped>\n",
       "    .dataframe tbody tr th:only-of-type {\n",
       "        vertical-align: middle;\n",
       "    }\n",
       "\n",
       "    .dataframe tbody tr th {\n",
       "        vertical-align: top;\n",
       "    }\n",
       "\n",
       "    .dataframe thead th {\n",
       "        text-align: right;\n",
       "    }\n",
       "</style>\n",
       "<table border=\"1\" class=\"dataframe\">\n",
       "  <thead>\n",
       "    <tr style=\"text-align: right;\">\n",
       "      <th></th>\n",
       "      <th>mage</th>\n",
       "      <th>meduc</th>\n",
       "      <th>monpre</th>\n",
       "      <th>npvis</th>\n",
       "      <th>fage</th>\n",
       "      <th>feduc</th>\n",
       "      <th>omaps</th>\n",
       "      <th>fmaps</th>\n",
       "      <th>cigs</th>\n",
       "      <th>drink</th>\n",
       "      <th>male</th>\n",
       "      <th>mwhte</th>\n",
       "      <th>mblck</th>\n",
       "      <th>moth</th>\n",
       "      <th>fwhte</th>\n",
       "      <th>fblck</th>\n",
       "      <th>foth</th>\n",
       "      <th>bwght</th>\n",
       "    </tr>\n",
       "  </thead>\n",
       "  <tbody>\n",
       "    <tr>\n",
       "      <th>0</th>\n",
       "      <td>69</td>\n",
       "      <td>NaN</td>\n",
       "      <td>5</td>\n",
       "      <td>2.0</td>\n",
       "      <td>62</td>\n",
       "      <td>NaN</td>\n",
       "      <td>4</td>\n",
       "      <td>7</td>\n",
       "      <td>23</td>\n",
       "      <td>9</td>\n",
       "      <td>1</td>\n",
       "      <td>0</td>\n",
       "      <td>1</td>\n",
       "      <td>0</td>\n",
       "      <td>0</td>\n",
       "      <td>1</td>\n",
       "      <td>0</td>\n",
       "      <td>697</td>\n",
       "    </tr>\n",
       "    <tr>\n",
       "      <th>1</th>\n",
       "      <td>68</td>\n",
       "      <td>12.0</td>\n",
       "      <td>3</td>\n",
       "      <td>10.0</td>\n",
       "      <td>61</td>\n",
       "      <td>11.0</td>\n",
       "      <td>4</td>\n",
       "      <td>6</td>\n",
       "      <td>25</td>\n",
       "      <td>11</td>\n",
       "      <td>1</td>\n",
       "      <td>1</td>\n",
       "      <td>0</td>\n",
       "      <td>0</td>\n",
       "      <td>1</td>\n",
       "      <td>0</td>\n",
       "      <td>0</td>\n",
       "      <td>1290</td>\n",
       "    </tr>\n",
       "    <tr>\n",
       "      <th>2</th>\n",
       "      <td>71</td>\n",
       "      <td>12.0</td>\n",
       "      <td>3</td>\n",
       "      <td>6.0</td>\n",
       "      <td>46</td>\n",
       "      <td>12.0</td>\n",
       "      <td>2</td>\n",
       "      <td>7</td>\n",
       "      <td>21</td>\n",
       "      <td>12</td>\n",
       "      <td>1</td>\n",
       "      <td>0</td>\n",
       "      <td>1</td>\n",
       "      <td>0</td>\n",
       "      <td>0</td>\n",
       "      <td>1</td>\n",
       "      <td>0</td>\n",
       "      <td>1490</td>\n",
       "    </tr>\n",
       "    <tr>\n",
       "      <th>3</th>\n",
       "      <td>59</td>\n",
       "      <td>16.0</td>\n",
       "      <td>1</td>\n",
       "      <td>8.0</td>\n",
       "      <td>48</td>\n",
       "      <td>16.0</td>\n",
       "      <td>7</td>\n",
       "      <td>8</td>\n",
       "      <td>21</td>\n",
       "      <td>10</td>\n",
       "      <td>0</td>\n",
       "      <td>0</td>\n",
       "      <td>0</td>\n",
       "      <td>1</td>\n",
       "      <td>0</td>\n",
       "      <td>0</td>\n",
       "      <td>1</td>\n",
       "      <td>1720</td>\n",
       "    </tr>\n",
       "    <tr>\n",
       "      <th>4</th>\n",
       "      <td>48</td>\n",
       "      <td>12.0</td>\n",
       "      <td>4</td>\n",
       "      <td>6.0</td>\n",
       "      <td>39</td>\n",
       "      <td>12.0</td>\n",
       "      <td>2</td>\n",
       "      <td>9</td>\n",
       "      <td>17</td>\n",
       "      <td>13</td>\n",
       "      <td>0</td>\n",
       "      <td>1</td>\n",
       "      <td>0</td>\n",
       "      <td>0</td>\n",
       "      <td>1</td>\n",
       "      <td>0</td>\n",
       "      <td>0</td>\n",
       "      <td>1956</td>\n",
       "    </tr>\n",
       "    <tr>\n",
       "      <th>5</th>\n",
       "      <td>67</td>\n",
       "      <td>11.0</td>\n",
       "      <td>4</td>\n",
       "      <td>8.0</td>\n",
       "      <td>40</td>\n",
       "      <td>8.0</td>\n",
       "      <td>4</td>\n",
       "      <td>9</td>\n",
       "      <td>16</td>\n",
       "      <td>14</td>\n",
       "      <td>0</td>\n",
       "      <td>1</td>\n",
       "      <td>0</td>\n",
       "      <td>0</td>\n",
       "      <td>1</td>\n",
       "      <td>0</td>\n",
       "      <td>0</td>\n",
       "      <td>1984</td>\n",
       "    </tr>\n",
       "    <tr>\n",
       "      <th>6</th>\n",
       "      <td>54</td>\n",
       "      <td>12.0</td>\n",
       "      <td>2</td>\n",
       "      <td>12.0</td>\n",
       "      <td>46</td>\n",
       "      <td>12.0</td>\n",
       "      <td>9</td>\n",
       "      <td>9</td>\n",
       "      <td>17</td>\n",
       "      <td>12</td>\n",
       "      <td>1</td>\n",
       "      <td>0</td>\n",
       "      <td>1</td>\n",
       "      <td>0</td>\n",
       "      <td>0</td>\n",
       "      <td>1</td>\n",
       "      <td>0</td>\n",
       "      <td>2050</td>\n",
       "    </tr>\n",
       "    <tr>\n",
       "      <th>7</th>\n",
       "      <td>71</td>\n",
       "      <td>14.0</td>\n",
       "      <td>4</td>\n",
       "      <td>7.0</td>\n",
       "      <td>51</td>\n",
       "      <td>11.0</td>\n",
       "      <td>9</td>\n",
       "      <td>8</td>\n",
       "      <td>15</td>\n",
       "      <td>13</td>\n",
       "      <td>0</td>\n",
       "      <td>1</td>\n",
       "      <td>0</td>\n",
       "      <td>0</td>\n",
       "      <td>1</td>\n",
       "      <td>0</td>\n",
       "      <td>0</td>\n",
       "      <td>2068</td>\n",
       "    </tr>\n",
       "    <tr>\n",
       "      <th>8</th>\n",
       "      <td>56</td>\n",
       "      <td>12.0</td>\n",
       "      <td>1</td>\n",
       "      <td>9.0</td>\n",
       "      <td>53</td>\n",
       "      <td>14.0</td>\n",
       "      <td>8</td>\n",
       "      <td>9</td>\n",
       "      <td>14</td>\n",
       "      <td>9</td>\n",
       "      <td>1</td>\n",
       "      <td>1</td>\n",
       "      <td>0</td>\n",
       "      <td>0</td>\n",
       "      <td>1</td>\n",
       "      <td>0</td>\n",
       "      <td>0</td>\n",
       "      <td>2148</td>\n",
       "    </tr>\n",
       "    <tr>\n",
       "      <th>9</th>\n",
       "      <td>58</td>\n",
       "      <td>12.0</td>\n",
       "      <td>2</td>\n",
       "      <td>12.0</td>\n",
       "      <td>61</td>\n",
       "      <td>16.0</td>\n",
       "      <td>9</td>\n",
       "      <td>9</td>\n",
       "      <td>13</td>\n",
       "      <td>6</td>\n",
       "      <td>0</td>\n",
       "      <td>0</td>\n",
       "      <td>1</td>\n",
       "      <td>0</td>\n",
       "      <td>0</td>\n",
       "      <td>1</td>\n",
       "      <td>0</td>\n",
       "      <td>2180</td>\n",
       "    </tr>\n",
       "  </tbody>\n",
       "</table>\n",
       "</div>"
      ],
      "text/plain": [
       "   mage  meduc  monpre  npvis  fage  feduc  omaps  fmaps  cigs  drink  male  mwhte  mblck  moth  fwhte  fblck  foth  bwght\n",
       "0    69    NaN       5    2.0    62    NaN      4      7    23      9     1      0      1     0      0      1     0    697\n",
       "1    68   12.0       3   10.0    61   11.0      4      6    25     11     1      1      0     0      1      0     0   1290\n",
       "2    71   12.0       3    6.0    46   12.0      2      7    21     12     1      0      1     0      0      1     0   1490\n",
       "3    59   16.0       1    8.0    48   16.0      7      8    21     10     0      0      0     1      0      0     1   1720\n",
       "4    48   12.0       4    6.0    39   12.0      2      9    17     13     0      1      0     0      1      0     0   1956\n",
       "5    67   11.0       4    8.0    40    8.0      4      9    16     14     0      1      0     0      1      0     0   1984\n",
       "6    54   12.0       2   12.0    46   12.0      9      9    17     12     1      0      1     0      0      1     0   2050\n",
       "7    71   14.0       4    7.0    51   11.0      9      8    15     13     0      1      0     0      1      0     0   2068\n",
       "8    56   12.0       1    9.0    53   14.0      8      9    14      9     1      1      0     0      1      0     0   2148\n",
       "9    58   12.0       2   12.0    61   16.0      9      9    13      6     0      0      1     0      0      1     0   2180"
      ]
     },
     "execution_count": 2,
     "metadata": {},
     "output_type": "execute_result"
    }
   ],
   "source": [
    "#Read birthweight_low excel file\n",
    "\n",
    "# setting pandas print options\n",
    "pd.set_option('display.max_rows', 500)\n",
    "pd.set_option('display.max_columns', 500)\n",
    "pd.set_option('display.width', 1000)\n",
    "\n",
    "\n",
    "# specifying file name\n",
    "file = './birthweight_low.xlsx'\n",
    "\n",
    "\n",
    "# reading the file into Python\n",
    "birthweight = pd.read_excel(file)\n",
    "\n",
    "\n",
    "# outputting the first ten rows of the dataset\n",
    "birthweight.head(n=10)"
   ]
  },
  {
   "cell_type": "markdown",
   "id": "5e7afbaf",
   "metadata": {},
   "source": [
    "### Analysing the dataset"
   ]
  },
  {
   "cell_type": "code",
   "execution_count": 3,
   "id": "fa13493a",
   "metadata": {
    "scrolled": true
   },
   "outputs": [
    {
     "data": {
      "text/plain": [
       "(196, 18)"
      ]
     },
     "execution_count": 3,
     "metadata": {},
     "output_type": "execute_result"
    }
   ],
   "source": [
    "# Using .shape to view (ROWS, COLUMNS)\n",
    "birthweight.shape"
   ]
  },
  {
   "cell_type": "code",
   "execution_count": 4,
   "id": "c8639902",
   "metadata": {
    "scrolled": true
   },
   "outputs": [
    {
     "name": "stdout",
     "output_type": "stream",
     "text": [
      "\n",
      "Size of Original Dataset\n",
      "------------------------\n",
      "Observations: 196\n",
      "Features:     18\n",
      "\n"
     ]
    }
   ],
   "source": [
    "# Formatting and printing the dimensions of the dataset\n",
    "print(f\"\"\"\n",
    "Size of Original Dataset\n",
    "------------------------\n",
    "Observations: {birthweight.shape[0]}\n",
    "Features:     {birthweight.shape[1]}\n",
    "\"\"\")"
   ]
  },
  {
   "cell_type": "code",
   "execution_count": 5,
   "id": "350c3ca9",
   "metadata": {
    "scrolled": true
   },
   "outputs": [
    {
     "name": "stdout",
     "output_type": "stream",
     "text": [
      "mage\n",
      "meduc\n",
      "monpre\n",
      "npvis\n",
      "fage\n",
      "feduc\n",
      "omaps\n",
      "fmaps\n",
      "cigs\n",
      "drink\n",
      "male\n",
      "mwhte\n",
      "mblck\n",
      "moth\n",
      "fwhte\n",
      "fblck\n",
      "foth\n",
      "bwght\n"
     ]
    }
   ],
   "source": [
    "# looping to print column names one by one\n",
    "for column in birthweight:\n",
    "    print(column)"
   ]
  },
  {
   "cell_type": "code",
   "execution_count": 6,
   "id": "4c9eed31",
   "metadata": {
    "scrolled": true
   },
   "outputs": [
    {
     "data": {
      "text/html": [
       "<div>\n",
       "<style scoped>\n",
       "    .dataframe tbody tr th:only-of-type {\n",
       "        vertical-align: middle;\n",
       "    }\n",
       "\n",
       "    .dataframe tbody tr th {\n",
       "        vertical-align: top;\n",
       "    }\n",
       "\n",
       "    .dataframe thead th {\n",
       "        text-align: right;\n",
       "    }\n",
       "</style>\n",
       "<table border=\"1\" class=\"dataframe\">\n",
       "  <thead>\n",
       "    <tr style=\"text-align: right;\">\n",
       "      <th></th>\n",
       "      <th>mage</th>\n",
       "      <th>meduc</th>\n",
       "      <th>monpre</th>\n",
       "      <th>npvis</th>\n",
       "      <th>fage</th>\n",
       "      <th>feduc</th>\n",
       "      <th>omaps</th>\n",
       "      <th>fmaps</th>\n",
       "      <th>cigs</th>\n",
       "      <th>drink</th>\n",
       "      <th>male</th>\n",
       "      <th>mwhte</th>\n",
       "      <th>mblck</th>\n",
       "      <th>moth</th>\n",
       "      <th>fwhte</th>\n",
       "      <th>fblck</th>\n",
       "      <th>foth</th>\n",
       "      <th>bwght</th>\n",
       "    </tr>\n",
       "  </thead>\n",
       "  <tbody>\n",
       "    <tr>\n",
       "      <th>191</th>\n",
       "      <td>30</td>\n",
       "      <td>12.0</td>\n",
       "      <td>5</td>\n",
       "      <td>12.0</td>\n",
       "      <td>38</td>\n",
       "      <td>NaN</td>\n",
       "      <td>5</td>\n",
       "      <td>7</td>\n",
       "      <td>3</td>\n",
       "      <td>2</td>\n",
       "      <td>1</td>\n",
       "      <td>0</td>\n",
       "      <td>1</td>\n",
       "      <td>0</td>\n",
       "      <td>0</td>\n",
       "      <td>0</td>\n",
       "      <td>1</td>\n",
       "      <td>4610</td>\n",
       "    </tr>\n",
       "    <tr>\n",
       "      <th>192</th>\n",
       "      <td>41</td>\n",
       "      <td>14.0</td>\n",
       "      <td>2</td>\n",
       "      <td>12.0</td>\n",
       "      <td>47</td>\n",
       "      <td>16.0</td>\n",
       "      <td>8</td>\n",
       "      <td>9</td>\n",
       "      <td>10</td>\n",
       "      <td>4</td>\n",
       "      <td>1</td>\n",
       "      <td>0</td>\n",
       "      <td>1</td>\n",
       "      <td>0</td>\n",
       "      <td>0</td>\n",
       "      <td>1</td>\n",
       "      <td>0</td>\n",
       "      <td>4660</td>\n",
       "    </tr>\n",
       "    <tr>\n",
       "      <th>193</th>\n",
       "      <td>33</td>\n",
       "      <td>15.0</td>\n",
       "      <td>2</td>\n",
       "      <td>15.0</td>\n",
       "      <td>38</td>\n",
       "      <td>13.0</td>\n",
       "      <td>8</td>\n",
       "      <td>8</td>\n",
       "      <td>0</td>\n",
       "      <td>1</td>\n",
       "      <td>0</td>\n",
       "      <td>1</td>\n",
       "      <td>0</td>\n",
       "      <td>0</td>\n",
       "      <td>1</td>\n",
       "      <td>0</td>\n",
       "      <td>0</td>\n",
       "      <td>4678</td>\n",
       "    </tr>\n",
       "    <tr>\n",
       "      <th>194</th>\n",
       "      <td>31</td>\n",
       "      <td>17.0</td>\n",
       "      <td>2</td>\n",
       "      <td>6.0</td>\n",
       "      <td>43</td>\n",
       "      <td>14.0</td>\n",
       "      <td>9</td>\n",
       "      <td>10</td>\n",
       "      <td>8</td>\n",
       "      <td>4</td>\n",
       "      <td>1</td>\n",
       "      <td>0</td>\n",
       "      <td>1</td>\n",
       "      <td>0</td>\n",
       "      <td>0</td>\n",
       "      <td>1</td>\n",
       "      <td>0</td>\n",
       "      <td>4791</td>\n",
       "    </tr>\n",
       "    <tr>\n",
       "      <th>195</th>\n",
       "      <td>39</td>\n",
       "      <td>17.0</td>\n",
       "      <td>2</td>\n",
       "      <td>10.0</td>\n",
       "      <td>38</td>\n",
       "      <td>12.0</td>\n",
       "      <td>8</td>\n",
       "      <td>9</td>\n",
       "      <td>0</td>\n",
       "      <td>0</td>\n",
       "      <td>0</td>\n",
       "      <td>0</td>\n",
       "      <td>0</td>\n",
       "      <td>1</td>\n",
       "      <td>1</td>\n",
       "      <td>0</td>\n",
       "      <td>0</td>\n",
       "      <td>4933</td>\n",
       "    </tr>\n",
       "  </tbody>\n",
       "</table>\n",
       "</div>"
      ],
      "text/plain": [
       "     mage  meduc  monpre  npvis  fage  feduc  omaps  fmaps  cigs  drink  male  mwhte  mblck  moth  fwhte  fblck  foth  bwght\n",
       "191    30   12.0       5   12.0    38    NaN      5      7     3      2     1      0      1     0      0      0     1   4610\n",
       "192    41   14.0       2   12.0    47   16.0      8      9    10      4     1      0      1     0      0      1     0   4660\n",
       "193    33   15.0       2   15.0    38   13.0      8      8     0      1     0      1      0     0      1      0     0   4678\n",
       "194    31   17.0       2    6.0    43   14.0      9     10     8      4     1      0      1     0      0      1     0   4791\n",
       "195    39   17.0       2   10.0    38   12.0      8      9     0      0     0      0      0     1      1      0     0   4933"
      ]
     },
     "execution_count": 6,
     "metadata": {},
     "output_type": "execute_result"
    }
   ],
   "source": [
    "# Displaying the LAST 5 rows of the DataFrame\n",
    "birthweight.tail(n=5)"
   ]
  },
  {
   "cell_type": "markdown",
   "id": "89bee8f0",
   "metadata": {},
   "source": [
    "### Identifying missing values"
   ]
  },
  {
   "cell_type": "code",
   "execution_count": 7,
   "id": "3cb2e3ca",
   "metadata": {
    "scrolled": true
   },
   "outputs": [
    {
     "data": {
      "text/plain": [
       "True"
      ]
     },
     "execution_count": 7,
     "metadata": {},
     "output_type": "execute_result"
    }
   ],
   "source": [
    "# Check for null values\n",
    "birthweight.isnull().values.any()"
   ]
  },
  {
   "cell_type": "code",
   "execution_count": 8,
   "id": "d564960b",
   "metadata": {
    "scrolled": true
   },
   "outputs": [
    {
     "data": {
      "text/plain": [
       "mage      0\n",
       "meduc     3\n",
       "monpre    0\n",
       "npvis     3\n",
       "fage      0\n",
       "feduc     7\n",
       "omaps     0\n",
       "fmaps     0\n",
       "cigs      0\n",
       "drink     0\n",
       "male      0\n",
       "mwhte     0\n",
       "mblck     0\n",
       "moth      0\n",
       "fwhte     0\n",
       "fblck     0\n",
       "foth      0\n",
       "bwght     0\n",
       "dtype: int64"
      ]
     },
     "execution_count": 8,
     "metadata": {},
     "output_type": "execute_result"
    }
   ],
   "source": [
    "# Check null value count\n",
    "birthweight.isnull().sum()"
   ]
  },
  {
   "cell_type": "code",
   "execution_count": 9,
   "id": "cff34926",
   "metadata": {
    "scrolled": true
   },
   "outputs": [
    {
     "name": "stdout",
     "output_type": "stream",
     "text": [
      "<class 'pandas.core.frame.DataFrame'>\n",
      "RangeIndex: 196 entries, 0 to 195\n",
      "Data columns (total 18 columns):\n",
      " #   Column  Non-Null Count  Dtype  \n",
      "---  ------  --------------  -----  \n",
      " 0   mage    196 non-null    int64  \n",
      " 1   meduc   193 non-null    float64\n",
      " 2   monpre  196 non-null    int64  \n",
      " 3   npvis   193 non-null    float64\n",
      " 4   fage    196 non-null    int64  \n",
      " 5   feduc   189 non-null    float64\n",
      " 6   omaps   196 non-null    int64  \n",
      " 7   fmaps   196 non-null    int64  \n",
      " 8   cigs    196 non-null    int64  \n",
      " 9   drink   196 non-null    int64  \n",
      " 10  male    196 non-null    int64  \n",
      " 11  mwhte   196 non-null    int64  \n",
      " 12  mblck   196 non-null    int64  \n",
      " 13  moth    196 non-null    int64  \n",
      " 14  fwhte   196 non-null    int64  \n",
      " 15  fblck   196 non-null    int64  \n",
      " 16  foth    196 non-null    int64  \n",
      " 17  bwght   196 non-null    int64  \n",
      "dtypes: float64(3), int64(15)\n",
      "memory usage: 27.7 KB\n"
     ]
    }
   ],
   "source": [
    "# INFOrmation about each variable\n",
    "birthweight.info()"
   ]
  },
  {
   "cell_type": "code",
   "execution_count": 10,
   "id": "a4b889d2",
   "metadata": {
    "scrolled": true
   },
   "outputs": [],
   "source": [
    "# Fill missing values with mean\n",
    "for col in birthweight.columns:\n",
    "    if birthweight[col].isnull().sum() != 0 :\n",
    "        birthweight[col].fillna(value = birthweight[col].mean(), inplace=True)"
   ]
  },
  {
   "cell_type": "code",
   "execution_count": 11,
   "id": "84a9aba8",
   "metadata": {
    "scrolled": true
   },
   "outputs": [
    {
     "data": {
      "text/plain": [
       "mage      0\n",
       "meduc     0\n",
       "monpre    0\n",
       "npvis     0\n",
       "fage      0\n",
       "feduc     0\n",
       "omaps     0\n",
       "fmaps     0\n",
       "cigs      0\n",
       "drink     0\n",
       "male      0\n",
       "mwhte     0\n",
       "mblck     0\n",
       "moth      0\n",
       "fwhte     0\n",
       "fblck     0\n",
       "foth      0\n",
       "bwght     0\n",
       "dtype: int64"
      ]
     },
     "execution_count": 11,
     "metadata": {},
     "output_type": "execute_result"
    }
   ],
   "source": [
    "# Recheck null value count\n",
    "birthweight.isnull().sum()"
   ]
  },
  {
   "cell_type": "markdown",
   "id": "8c2d3cfe",
   "metadata": {},
   "source": [
    "### Correlation"
   ]
  },
  {
   "cell_type": "code",
   "execution_count": 12,
   "id": "5eb52df1",
   "metadata": {
    "scrolled": true
   },
   "outputs": [
    {
     "data": {
      "text/plain": [
       "bwght     1.00\n",
       "omaps     0.25\n",
       "fmaps     0.25\n",
       "feduc     0.13\n",
       "mblck     0.13\n",
       "fblck     0.12\n",
       "male      0.11\n",
       "meduc     0.09\n",
       "npvis     0.06\n",
       "moth     -0.02\n",
       "fwhte    -0.04\n",
       "monpre   -0.05\n",
       "foth     -0.08\n",
       "mwhte    -0.11\n",
       "fage     -0.40\n",
       "mage     -0.46\n",
       "cigs     -0.57\n",
       "drink    -0.74\n",
       "Name: bwght, dtype: float64"
      ]
     },
     "execution_count": 12,
     "metadata": {},
     "output_type": "execute_result"
    }
   ],
   "source": [
    "# Correlation\n",
    "birthweight_corr = birthweight.corr(method = 'pearson')\n",
    "birthweight_corr.loc[ : , \"bwght\"].round(decimals = 2).sort_values(ascending = False,)"
   ]
  },
  {
   "cell_type": "code",
   "execution_count": 13,
   "id": "13734a8b",
   "metadata": {
    "scrolled": true
   },
   "outputs": [
    {
     "data": {
      "image/png": "[encoded data removed]",
      "text/plain": [
       "<Figure size 576x576 with 2 Axes>"
      ]
     },
     "metadata": {
      "needs_background": "light"
     },
     "output_type": "display_data"
    }
   ],
   "source": [
    "# Identifying the correction between all variables\n",
    "\n",
    "# specifying plot size (making it bigger)\n",
    "fig, ax = plt.subplots(figsize=(8,8))\n",
    "\n",
    "# limiting the size of the correlation matrixt\n",
    "birthweight_subset = birthweight.loc[ : , ['mage',\n",
    "                                           'fage',\n",
    "                                           'male',\n",
    "                                           'monpre',\n",
    "                                           'drink',\n",
    "                                           'cigs',\n",
    "                                           'meduc',\n",
    "                                           'npvis',\n",
    "                                           'bwght']]\n",
    "\n",
    "# UNSCALED correlation matrix\n",
    "birthweight_corr = birthweight_subset.corr().round(2)\n",
    "\n",
    "# instantiating a heatmap\n",
    "sns.heatmap(data       = birthweight_corr, # the correlation matrix\n",
    "            cmap       = 'coolwarm',     # cool warm colors\n",
    "            square     = True,          # tightening the layout\n",
    "            annot      = True,          # should there be numbers in the heatmap           \n",
    "            linecolor  = 'black',       # lines between boxes\n",
    "            linewidths = 0.9)          # how thick should the lines be?\n",
    "\n",
    "\n",
    "# displaying the plot\n",
    "plt.show()\n"
   ]
  },
  {
   "cell_type": "code",
   "execution_count": 14,
   "id": "636c6cf3",
   "metadata": {
    "scrolled": true
   },
   "outputs": [
    {
     "data": {
      "text/plain": [
       "'CONTINUOUS\\n----------\\nmage\\nfage\\nbwght\\nomaps\\nfmaps\\nmeduc\\nfeduc\\n\\nINTERVAL/COUNT\\n--------------\\nmonpre\\nnpvis\\ncigs\\ndrink\\n\\nCATEGORICAL/OTHER\\n-----------------\\nmale\\nmwhte\\nmblck\\nmoth\\nfwhte\\nfblck\\nfoth'"
      ]
     },
     "execution_count": 14,
     "metadata": {},
     "output_type": "execute_result"
    }
   ],
   "source": [
    "\"\"\"CONTINUOUS\n",
    "----------\n",
    "mage\n",
    "fage\n",
    "bwght\n",
    "omaps\n",
    "fmaps\n",
    "meduc\n",
    "feduc\n",
    "\n",
    "INTERVAL/COUNT\n",
    "--------------\n",
    "monpre\n",
    "npvis\n",
    "cigs\n",
    "drink\n",
    "\n",
    "CATEGORICAL/OTHER\n",
    "-----------------\n",
    "male\n",
    "mwhte\n",
    "mblck\n",
    "moth\n",
    "fwhte\n",
    "fblck\n",
    "foth\"\"\""
   ]
  },
  {
   "cell_type": "code",
   "execution_count": 15,
   "id": "b3a0510f",
   "metadata": {
    "scrolled": true
   },
   "outputs": [
    {
     "data": {
      "text/plain": [
       "bwght    1.00\n",
       "omaps    0.25\n",
       "fmaps    0.25\n",
       "feduc    0.13\n",
       "meduc    0.09\n",
       "fage    -0.40\n",
       "mage    -0.46\n",
       "Name: bwght, dtype: float64"
      ]
     },
     "execution_count": 15,
     "metadata": {},
     "output_type": "execute_result"
    }
   ],
   "source": [
    "# creating a list of continuous features (including Sale_Price)\n",
    "continuous_data = ['mage', 'fage', 'bwght', 'omaps', 'fmaps','feduc','meduc']\n",
    "\n",
    "\n",
    "# developing a correlation matrix based on continuous features\n",
    "birthweight_corr = birthweight[continuous_data].corr(method = 'pearson')\n",
    "\n",
    "\n",
    "# filtering the results to only show correlations with Sale_Price\n",
    "birthweight_corr.loc[ : , 'bwght'].round(decimals = 2).sort_values(ascending = False)"
   ]
  },
  {
   "cell_type": "code",
   "execution_count": 16,
   "id": "5a73d265",
   "metadata": {
    "scrolled": true
   },
   "outputs": [
    {
     "data": {
      "text/html": [
       "<div>\n",
       "<style scoped>\n",
       "    .dataframe tbody tr th:only-of-type {\n",
       "        vertical-align: middle;\n",
       "    }\n",
       "\n",
       "    .dataframe tbody tr th {\n",
       "        vertical-align: top;\n",
       "    }\n",
       "\n",
       "    .dataframe thead th {\n",
       "        text-align: right;\n",
       "    }\n",
       "</style>\n",
       "<table border=\"1\" class=\"dataframe\">\n",
       "  <thead>\n",
       "    <tr style=\"text-align: right;\">\n",
       "      <th></th>\n",
       "      <th>mage</th>\n",
       "      <th>meduc</th>\n",
       "      <th>monpre</th>\n",
       "      <th>npvis</th>\n",
       "      <th>fage</th>\n",
       "      <th>feduc</th>\n",
       "      <th>omaps</th>\n",
       "      <th>fmaps</th>\n",
       "      <th>cigs</th>\n",
       "      <th>drink</th>\n",
       "      <th>male</th>\n",
       "      <th>mwhte</th>\n",
       "      <th>mblck</th>\n",
       "      <th>moth</th>\n",
       "      <th>fwhte</th>\n",
       "      <th>fblck</th>\n",
       "      <th>foth</th>\n",
       "      <th>bwght</th>\n",
       "    </tr>\n",
       "  </thead>\n",
       "  <tbody>\n",
       "    <tr>\n",
       "      <th>count</th>\n",
       "      <td>196.00</td>\n",
       "      <td>196.00</td>\n",
       "      <td>196.00</td>\n",
       "      <td>196.00</td>\n",
       "      <td>196.00</td>\n",
       "      <td>196.00</td>\n",
       "      <td>196.00</td>\n",
       "      <td>196.00</td>\n",
       "      <td>196.00</td>\n",
       "      <td>196.00</td>\n",
       "      <td>196.00</td>\n",
       "      <td>196.00</td>\n",
       "      <td>196.00</td>\n",
       "      <td>196.00</td>\n",
       "      <td>196.00</td>\n",
       "      <td>196.00</td>\n",
       "      <td>196.00</td>\n",
       "      <td>196.00</td>\n",
       "    </tr>\n",
       "    <tr>\n",
       "      <th>mean</th>\n",
       "      <td>40.15</td>\n",
       "      <td>13.91</td>\n",
       "      <td>2.34</td>\n",
       "      <td>11.60</td>\n",
       "      <td>39.29</td>\n",
       "      <td>13.85</td>\n",
       "      <td>8.19</td>\n",
       "      <td>8.96</td>\n",
       "      <td>10.93</td>\n",
       "      <td>5.40</td>\n",
       "      <td>0.55</td>\n",
       "      <td>0.27</td>\n",
       "      <td>0.38</td>\n",
       "      <td>0.35</td>\n",
       "      <td>0.35</td>\n",
       "      <td>0.34</td>\n",
       "      <td>0.31</td>\n",
       "      <td>3334.09</td>\n",
       "    </tr>\n",
       "    <tr>\n",
       "      <th>std</th>\n",
       "      <td>10.25</td>\n",
       "      <td>2.04</td>\n",
       "      <td>1.36</td>\n",
       "      <td>4.23</td>\n",
       "      <td>8.98</td>\n",
       "      <td>2.59</td>\n",
       "      <td>1.58</td>\n",
       "      <td>0.65</td>\n",
       "      <td>6.10</td>\n",
       "      <td>3.00</td>\n",
       "      <td>0.50</td>\n",
       "      <td>0.45</td>\n",
       "      <td>0.49</td>\n",
       "      <td>0.48</td>\n",
       "      <td>0.48</td>\n",
       "      <td>0.48</td>\n",
       "      <td>0.46</td>\n",
       "      <td>646.70</td>\n",
       "    </tr>\n",
       "    <tr>\n",
       "      <th>min</th>\n",
       "      <td>23.00</td>\n",
       "      <td>8.00</td>\n",
       "      <td>1.00</td>\n",
       "      <td>2.00</td>\n",
       "      <td>23.00</td>\n",
       "      <td>1.00</td>\n",
       "      <td>2.00</td>\n",
       "      <td>5.00</td>\n",
       "      <td>0.00</td>\n",
       "      <td>0.00</td>\n",
       "      <td>0.00</td>\n",
       "      <td>0.00</td>\n",
       "      <td>0.00</td>\n",
       "      <td>0.00</td>\n",
       "      <td>0.00</td>\n",
       "      <td>0.00</td>\n",
       "      <td>0.00</td>\n",
       "      <td>697.00</td>\n",
       "    </tr>\n",
       "    <tr>\n",
       "      <th>25%</th>\n",
       "      <td>33.00</td>\n",
       "      <td>12.00</td>\n",
       "      <td>2.00</td>\n",
       "      <td>10.00</td>\n",
       "      <td>34.75</td>\n",
       "      <td>12.00</td>\n",
       "      <td>8.00</td>\n",
       "      <td>9.00</td>\n",
       "      <td>6.00</td>\n",
       "      <td>4.00</td>\n",
       "      <td>0.00</td>\n",
       "      <td>0.00</td>\n",
       "      <td>0.00</td>\n",
       "      <td>0.00</td>\n",
       "      <td>0.00</td>\n",
       "      <td>0.00</td>\n",
       "      <td>0.00</td>\n",
       "      <td>2916.25</td>\n",
       "    </tr>\n",
       "    <tr>\n",
       "      <th>50%</th>\n",
       "      <td>39.00</td>\n",
       "      <td>14.00</td>\n",
       "      <td>2.00</td>\n",
       "      <td>12.00</td>\n",
       "      <td>38.00</td>\n",
       "      <td>14.00</td>\n",
       "      <td>9.00</td>\n",
       "      <td>9.00</td>\n",
       "      <td>11.00</td>\n",
       "      <td>5.00</td>\n",
       "      <td>1.00</td>\n",
       "      <td>0.00</td>\n",
       "      <td>0.00</td>\n",
       "      <td>0.00</td>\n",
       "      <td>0.00</td>\n",
       "      <td>0.00</td>\n",
       "      <td>0.00</td>\n",
       "      <td>3452.00</td>\n",
       "    </tr>\n",
       "    <tr>\n",
       "      <th>75%</th>\n",
       "      <td>46.00</td>\n",
       "      <td>16.00</td>\n",
       "      <td>3.00</td>\n",
       "      <td>12.00</td>\n",
       "      <td>43.00</td>\n",
       "      <td>16.00</td>\n",
       "      <td>9.00</td>\n",
       "      <td>9.00</td>\n",
       "      <td>15.25</td>\n",
       "      <td>7.25</td>\n",
       "      <td>1.00</td>\n",
       "      <td>1.00</td>\n",
       "      <td>1.00</td>\n",
       "      <td>1.00</td>\n",
       "      <td>1.00</td>\n",
       "      <td>1.00</td>\n",
       "      <td>1.00</td>\n",
       "      <td>3759.50</td>\n",
       "    </tr>\n",
       "    <tr>\n",
       "      <th>max</th>\n",
       "      <td>71.00</td>\n",
       "      <td>17.00</td>\n",
       "      <td>8.00</td>\n",
       "      <td>35.00</td>\n",
       "      <td>73.00</td>\n",
       "      <td>17.00</td>\n",
       "      <td>10.00</td>\n",
       "      <td>10.00</td>\n",
       "      <td>25.00</td>\n",
       "      <td>14.00</td>\n",
       "      <td>1.00</td>\n",
       "      <td>1.00</td>\n",
       "      <td>1.00</td>\n",
       "      <td>1.00</td>\n",
       "      <td>1.00</td>\n",
       "      <td>1.00</td>\n",
       "      <td>1.00</td>\n",
       "      <td>4933.00</td>\n",
       "    </tr>\n",
       "  </tbody>\n",
       "</table>\n",
       "</div>"
      ],
      "text/plain": [
       "         mage   meduc  monpre   npvis    fage   feduc   omaps   fmaps    cigs   drink    male   mwhte   mblck    moth   fwhte   fblck    foth    bwght\n",
       "count  196.00  196.00  196.00  196.00  196.00  196.00  196.00  196.00  196.00  196.00  196.00  196.00  196.00  196.00  196.00  196.00  196.00   196.00\n",
       "mean    40.15   13.91    2.34   11.60   39.29   13.85    8.19    8.96   10.93    5.40    0.55    0.27    0.38    0.35    0.35    0.34    0.31  3334.09\n",
       "std     10.25    2.04    1.36    4.23    8.98    2.59    1.58    0.65    6.10    3.00    0.50    0.45    0.49    0.48    0.48    0.48    0.46   646.70\n",
       "min     23.00    8.00    1.00    2.00   23.00    1.00    2.00    5.00    0.00    0.00    0.00    0.00    0.00    0.00    0.00    0.00    0.00   697.00\n",
       "25%     33.00   12.00    2.00   10.00   34.75   12.00    8.00    9.00    6.00    4.00    0.00    0.00    0.00    0.00    0.00    0.00    0.00  2916.25\n",
       "50%     39.00   14.00    2.00   12.00   38.00   14.00    9.00    9.00   11.00    5.00    1.00    0.00    0.00    0.00    0.00    0.00    0.00  3452.00\n",
       "75%     46.00   16.00    3.00   12.00   43.00   16.00    9.00    9.00   15.25    7.25    1.00    1.00    1.00    1.00    1.00    1.00    1.00  3759.50\n",
       "max     71.00   17.00    8.00   35.00   73.00   17.00   10.00   10.00   25.00   14.00    1.00    1.00    1.00    1.00    1.00    1.00    1.00  4933.00"
      ]
     },
     "execution_count": 16,
     "metadata": {},
     "output_type": "execute_result"
    }
   ],
   "source": [
    "birthweight.describe(include = [int, float]).round(2)"
   ]
  },
  {
   "cell_type": "markdown",
   "id": "6f11d850",
   "metadata": {},
   "source": [
    "### Histogram to identify skewness in the data"
   ]
  },
  {
   "cell_type": "code",
   "execution_count": 17,
   "id": "68dd9320",
   "metadata": {
    "scrolled": false
   },
   "outputs": [
    {
     "data": {
      "image/png": "[encoded data removed]",
      "text/plain": [
       "<Figure size 432x288 with 1 Axes>"
      ]
     },
     "metadata": {
      "needs_background": "light"
     },
     "output_type": "display_data"
    },
    {
     "data": {
      "image/png": "[encoded data removed]",
      "text/plain": [
       "<Figure size 432x288 with 1 Axes>"
      ]
     },
     "metadata": {
      "needs_background": "light"
     },
     "output_type": "display_data"
    },
    {
     "data": {
      "image/png": "[encoded data removed]",
      "text/plain": [
       "<Figure size 432x288 with 1 Axes>"
      ]
     },
     "metadata": {
      "needs_background": "light"
     },
     "output_type": "display_data"
    },
    {
     "data": {
      "image/png": "[encoded data removed]",
      "text/plain": [
       "<Figure size 432x288 with 1 Axes>"
      ]
     },
     "metadata": {
      "needs_background": "light"
     },
     "output_type": "display_data"
    },
    {
     "data": {
      "image/png": "[encoded data removed]",
      "text/plain": [
       "<Figure size 432x288 with 1 Axes>"
      ]
     },
     "metadata": {
      "needs_background": "light"
     },
     "output_type": "display_data"
    },
    {
     "data": {
      "image/png": "[encoded data removed]",
      "text/plain": [
       "<Figure size 432x288 with 1 Axes>"
      ]
     },
     "metadata": {
      "needs_background": "light"
     },
     "output_type": "display_data"
    },
    {
     "data": {
      "image/png": "[encoded data removed]",
      "text/plain": [
       "<Figure size 432x288 with 1 Axes>"
      ]
     },
     "metadata": {
      "needs_background": "light"
     },
     "output_type": "display_data"
    },
    {
     "data": {
      "image/png": "[encoded data removed]",
      "text/plain": [
       "<Figure size 432x288 with 1 Axes>"
      ]
     },
     "metadata": {
      "needs_background": "light"
     },
     "output_type": "display_data"
    },
    {
     "data": {
      "image/png": "[encoded data removed]",
      "text/plain": [
       "<Figure size 432x288 with 1 Axes>"
      ]
     },
     "metadata": {
      "needs_background": "light"
     },
     "output_type": "display_data"
    }
   ],
   "source": [
    "# developing a histogram using HISTPLOT\n",
    "# histogram for bwght\n",
    "\n",
    "# To show mean , median and mode in graph\n",
    "# https://stackoverflow.com/questions/51417483/mean-median-mode-lines-showing-only-in-last-graph-in-seaborn/51417635\n",
    "    mean = birthweight['bwght'].mean()\n",
    "    median = birthweight['bwght'].median()\n",
    "    mode = birthweight['bwght'].mode()[0]\n",
    "\n",
    "    plt.axvline(mean, color='r', linestyle='--')\n",
    "    plt.axvline(median, color='g', linestyle='-')\n",
    "    plt.axvline(mode, color='b', linestyle='-')\n",
    "    plt.legend({'Mean':mean,'Median':median,'Mode':mode})\n",
    "\n",
    "    sns.histplot(data  = birthweight,\n",
    "             x     = 'bwght',\n",
    "            kde    = True)\n",
    "\n",
    "\n",
    "    # title and axis labels\n",
    "                plt.title(label   = \"Original Distribution of birth weight\")\n",
    "    plt.xlabel(xlabel = \"Birth weight\") # avoiding using dataset labels\n",
    "    plt.ylabel(ylabel = \"count\")\n",
    "\n",
    "    # displaying the histogram\n",
    "    plt.show()\n",
    "\n",
    "#-----------------------------------------------------------------------------\n",
    "mean = birthweight['meduc'].mean()\n",
    "median = birthweight['meduc'].median()\n",
    "mode = birthweight['meduc'].mode()[0]\n",
    "\n",
    "plt.axvline(mean, color='r', linestyle='--')\n",
    "plt.axvline(median, color='g', linestyle='-')\n",
    "plt.axvline(mode, color='b', linestyle='-')\n",
    "plt.legend({'Mean':mean,'Median':median,'Mode':mode})\n",
    "\n",
    "# histogram for meduc \n",
    "sns.histplot(data   = birthweight,\n",
    "             x      = 'meduc',\n",
    "             kde    = True)\n",
    "\n",
    "\n",
    "# title and axis labels\n",
    "plt.title(label   = \"Original Distribution of birth weight\")\n",
    "plt.xlabel(xlabel = \"Mother's education\") # avoiding using dataset labels\n",
    "plt.ylabel(ylabel = \"count\")\n",
    "\n",
    "# rendering the plot\n",
    "plt.show()\n",
    "\n",
    "#-----------------------------------------------------------------------------\n",
    "mean = birthweight['monpre'].mean()\n",
    "median = birthweight['monpre'].median()\n",
    "mode = birthweight['monpre'].mode()[0]\n",
    "\n",
    "plt.axvline(mean, color='r', linestyle='--')\n",
    "plt.axvline(median, color='g', linestyle='-')\n",
    "plt.axvline(mode, color='b', linestyle='-')\n",
    "plt.legend({'Mean':mean,'Median':median,'Mode':mode})\n",
    "\n",
    "# histogram for monpre\n",
    "sns.histplot(data   = birthweight,\n",
    "             x      = 'monpre',\n",
    "             kde    = True)\n",
    "\n",
    "# title and axis labels\n",
    "plt.title(label   = \"Original Distribution of birth weight\")\n",
    "plt.xlabel(xlabel = \"Mon prenatal care begun\") # avoiding using dataset labels\n",
    "plt.ylabel(ylabel = \"count\")\n",
    "\n",
    "# rendering the plot\n",
    "plt.show()\n",
    "\n",
    "#-----------------------------------------------------------------------------\n",
    "mean = birthweight['npvis'].mean()\n",
    "median = birthweight['npvis'].median()\n",
    "mode = birthweight['npvis'].mode()[0]\n",
    "\n",
    "plt.axvline(mean, color='r', linestyle='--')\n",
    "plt.axvline(median, color='g', linestyle='-')\n",
    "plt.axvline(mode, color='b', linestyle='-')\n",
    "plt.legend({'Mean':mean,'Median':median,'Mode':mode})\n",
    "\n",
    "# histogram for monpre\n",
    "sns.histplot(data   = birthweight,\n",
    "             x      = 'npvis',\n",
    "             kde    = True)\n",
    "\n",
    "# title and axis labels\n",
    "plt.title(label   = \"Original Distribution of birth weight\")\n",
    "plt.xlabel(xlabel = \"Total number of prenatal visits\") # avoiding using dataset labels\n",
    "plt.ylabel(ylabel = \"count\")\n",
    "\n",
    "# rendering the plot\n",
    "plt.show()\n",
    "\n",
    "#-----------------------------------------------------------------------------\n",
    "mean = birthweight['mage'].mean()\n",
    "median = birthweight['mage'].median()\n",
    "mode = birthweight['mage'].mode()[0]\n",
    "\n",
    "plt.axvline(mean, color='r', linestyle='--')\n",
    "plt.axvline(median, color='g', linestyle='-')\n",
    "plt.axvline(mode, color='b', linestyle='-')\n",
    "plt.legend({'Mean':mean,'Median':median,'Mode':mode})\n",
    "\n",
    "# histogram for mage\n",
    "sns.histplot(data   = birthweight,\n",
    "             x      = 'mage',\n",
    "             kde    = True)\n",
    "\n",
    "# title and axis labels\n",
    "plt.title(label   = \"Original Distribution of birth weight\")\n",
    "plt.xlabel(xlabel = \"Mother's age\") # avoiding using dataset labels\n",
    "plt.ylabel(ylabel = \"count\")\n",
    "\n",
    "# rendering the plot\n",
    "plt.show()\n",
    "\n",
    "#-----------------------------------------------------------------------------\n",
    "mean = birthweight['fage'].mean()\n",
    "median = birthweight['fage'].median()\n",
    "mode = birthweight['fage'].mode()[0]\n",
    "\n",
    "plt.axvline(mean, color='r', linestyle='--')\n",
    "plt.axvline(median, color='g', linestyle='-')\n",
    "plt.axvline(mode, color='b', linestyle='-')\n",
    "plt.legend({'Mean':mean,'Median':median,'Mode':mode})\n",
    "\n",
    "# histogram for fage\n",
    "sns.histplot(data   = birthweight,\n",
    "             x      = 'fage',\n",
    "             kde    = True)\n",
    "\n",
    "# title and axis labels\n",
    "plt.title(label   = \"Original Distribution of birth weight\")\n",
    "plt.xlabel(xlabel = \"Father's Age\") # avoiding using dataset labels\n",
    "plt.ylabel(ylabel = \"count\")\n",
    "\n",
    "# rendering the plot\n",
    "plt.show()\n",
    "\n",
    "#-----------------------------------------------------------------------------\n",
    "mean = birthweight['feduc'].mean()\n",
    "median = birthweight['feduc'].median()\n",
    "mode = birthweight['feduc'].mode()[0]\n",
    "\n",
    "plt.axvline(mean, color='r', linestyle='--')\n",
    "plt.axvline(median, color='g', linestyle='-')\n",
    "plt.axvline(mode, color='b', linestyle='-')\n",
    "plt.legend({'Mean':mean,'Median':median,'Mode':mode})\n",
    "\n",
    "# histogram for feduc\n",
    "sns.histplot(data   = birthweight,\n",
    "             x      = 'feduc',\n",
    "             kde    = True)\n",
    "\n",
    "# title and axis labels\n",
    "plt.title(label   = \"Original Distribution of birth weight\")\n",
    "plt.xlabel(xlabel = \"Father's education\") # avoiding using dataset labels\n",
    "plt.ylabel(ylabel = \"count\")\n",
    "\n",
    "# rendering the plot\n",
    "plt.show()\n",
    "\n",
    "#-----------------------------------------------------------------------------\n",
    "mean = birthweight['cigs'].mean()\n",
    "median = birthweight['cigs'].median()\n",
    "mode = birthweight['cigs'].mode()[0]\n",
    "\n",
    "plt.axvline(mean, color='r', linestyle='--')\n",
    "plt.axvline(median, color='g', linestyle='-')\n",
    "plt.axvline(mode, color='b', linestyle='-')\n",
    "plt.legend({'Mean':mean,'Median':median,'Mode':mode})\n",
    "\n",
    "# histogram for cigs\n",
    "sns.histplot(data   = birthweight,\n",
    "             x      = 'cigs',\n",
    "             kde    = True)\n",
    "\n",
    "# title and axis labels\n",
    "plt.title(label   = \"Original Distribution of birth weight\")\n",
    "plt.xlabel(xlabel = \"Cigars\") # avoiding using dataset labels\n",
    "plt.ylabel(ylabel = \"count\")\n",
    "\n",
    "# rendering the plot\n",
    "plt.show()\n",
    "\n",
    "#-----------------------------------------------------------------------------\n",
    "mean = birthweight['drink'].mean()\n",
    "median = birthweight['drink'].median()\n",
    "mode = birthweight['drink'].mode()[0]\n",
    "\n",
    "plt.axvline(mean, color='r', linestyle='--')\n",
    "plt.axvline(median, color='g', linestyle='-')\n",
    "plt.axvline(mode, color='b', linestyle='-')\n",
    "plt.legend({'Mean':mean,'Median':median,'Mode':mode})\n",
    "\n",
    "# histogram for drink\n",
    "sns.histplot(data   = birthweight,\n",
    "             x      = 'drink',\n",
    "             kde    = True)\n",
    "\n",
    "# title and axis labels\n",
    "plt.title(label   = \"Original Distribution of birth weight\")\n",
    "plt.xlabel(xlabel = \"Alcohol\") # avoiding using dataset labels\n",
    "plt.ylabel(ylabel = \"count\")\n",
    "\n",
    "# rendering the plot\n",
    "plt.show()\n"
   ]
  },
  {
   "cell_type": "markdown",
   "id": "258b14d3",
   "metadata": {},
   "source": [
    "### Applying Log to skewed variables"
   ]
  },
  {
   "cell_type": "code",
   "execution_count": 18,
   "id": "bc2f4701",
   "metadata": {
    "scrolled": true
   },
   "outputs": [],
   "source": [
    "birthweight['log_npvis'] = np.log(birthweight['npvis'])"
   ]
  },
  {
   "cell_type": "code",
   "execution_count": 19,
   "id": "f7b5a32b",
   "metadata": {
    "scrolled": true
   },
   "outputs": [],
   "source": [
    "birthweight['log_meduc'] = np.log(birthweight['meduc'])"
   ]
  },
  {
   "cell_type": "code",
   "execution_count": 20,
   "id": "c7ca683d",
   "metadata": {
    "scrolled": true
   },
   "outputs": [],
   "source": [
    "birthweight['log_mage'] = np.log(birthweight['mage'])"
   ]
  },
  {
   "cell_type": "code",
   "execution_count": 21,
   "id": "9a202b0f",
   "metadata": {
    "scrolled": true
   },
   "outputs": [],
   "source": [
    "birthweight['log_cigs'] = np.log(birthweight['cigs'] + 0.001)"
   ]
  },
  {
   "cell_type": "code",
   "execution_count": 22,
   "id": "1bc1d3c2",
   "metadata": {
    "scrolled": true
   },
   "outputs": [],
   "source": [
    "birthweight['log_drink'] = np.log(birthweight['drink'] + 0.001)"
   ]
  },
  {
   "cell_type": "code",
   "execution_count": 23,
   "id": "9b19995f",
   "metadata": {
    "scrolled": true
   },
   "outputs": [],
   "source": [
    "birthweight['log_monpre'] = np.log(birthweight['monpre'])"
   ]
  },
  {
   "cell_type": "code",
   "execution_count": 24,
   "id": "6d053f48",
   "metadata": {
    "scrolled": true
   },
   "outputs": [],
   "source": [
    "birthweight['log_feduc'] = np.log(birthweight['feduc'])"
   ]
  },
  {
   "cell_type": "code",
   "execution_count": 25,
   "id": "58dc45e0",
   "metadata": {},
   "outputs": [],
   "source": [
    "birthweight['log_bwght'] = np.log(birthweight['bwght'])"
   ]
  },
  {
   "cell_type": "markdown",
   "id": "6fdb06a6",
   "metadata": {},
   "source": [
    "### Interactions"
   ]
  },
  {
   "cell_type": "code",
   "execution_count": 26,
   "id": "5f9ed121",
   "metadata": {
    "scrolled": true
   },
   "outputs": [],
   "source": [
    "birthweight['interaction_fage_mage'] = birthweight['fage'] * birthweight['log_mage']"
   ]
  },
  {
   "cell_type": "code",
   "execution_count": 27,
   "id": "c37e6993",
   "metadata": {
    "scrolled": true
   },
   "outputs": [],
   "source": [
    "birthweight['smoking_weekly'] = birthweight['log_cigs'] * 7"
   ]
  },
  {
   "cell_type": "code",
   "execution_count": 28,
   "id": "8d8dfc8b",
   "metadata": {
    "scrolled": true
   },
   "outputs": [],
   "source": [
    "birthweight['interaction_cigs_drink'] = birthweight['smoking_weekly'] * birthweight['drink']"
   ]
  },
  {
   "cell_type": "code",
   "execution_count": 29,
   "id": "92467bd5",
   "metadata": {
    "scrolled": true
   },
   "outputs": [],
   "source": [
    "birthweight['interaction_meduc_feduc'] = birthweight['meduc'] * birthweight['feduc']"
   ]
  },
  {
   "cell_type": "code",
   "execution_count": 30,
   "id": "35b3903e",
   "metadata": {
    "scrolled": true
   },
   "outputs": [],
   "source": [
    "birthweight['interaction_cigs_mage'] = birthweight['log_mage'] * birthweight['cigs']"
   ]
  },
  {
   "cell_type": "code",
   "execution_count": 31,
   "id": "b59e6e6d",
   "metadata": {
    "scrolled": true
   },
   "outputs": [],
   "source": [
    "birthweight['interaction_drink_mage'] = birthweight['log_mage'] * birthweight['drink']"
   ]
  },
  {
   "cell_type": "code",
   "execution_count": 32,
   "id": "eda73cb6",
   "metadata": {
    "scrolled": true
   },
   "outputs": [
    {
     "data": {
      "text/plain": [
       "Index(['mage', 'meduc', 'monpre', 'npvis', 'fage', 'feduc', 'omaps', 'fmaps', 'cigs', 'drink', 'male', 'mwhte', 'mblck', 'moth', 'fwhte', 'fblck', 'foth', 'bwght', 'log_npvis', 'log_meduc', 'log_mage', 'log_cigs', 'log_drink', 'log_monpre', 'log_feduc', 'log_bwght', 'interaction_fage_mage', 'smoking_weekly', 'interaction_cigs_drink', 'interaction_meduc_feduc', 'interaction_cigs_mage', 'interaction_drink_mage'], dtype='object')"
      ]
     },
     "execution_count": 32,
     "metadata": {},
     "output_type": "execute_result"
    }
   ],
   "source": [
    "birthweight.columns"
   ]
  },
  {
   "cell_type": "markdown",
   "id": "f563ca36",
   "metadata": {},
   "source": [
    "### Further categorizing the data"
   ]
  },
  {
   "cell_type": "code",
   "execution_count": 33,
   "id": "919ef6b4",
   "metadata": {},
   "outputs": [],
   "source": [
    "birthweight['m_mage'] = birthweight['mage'].apply(lambda x: 1 if x >= 35 else 0)\n",
    "   "
   ]
  },
  {
   "cell_type": "code",
   "execution_count": 34,
   "id": "2ecaea53",
   "metadata": {},
   "outputs": [],
   "source": [
    "birthweight['m_fage'] = birthweight['fage'].apply(lambda x: 1 if x >= 35 else 0)"
   ]
  },
  {
   "cell_type": "code",
   "execution_count": 35,
   "id": "01dbcf85",
   "metadata": {},
   "outputs": [],
   "source": [
    "birthweight['m_meduc'] = birthweight['meduc'].apply(lambda x: 1 if x < 10 else 0)\n",
    " "
   ]
  },
  {
   "cell_type": "code",
   "execution_count": 36,
   "id": "988fa750",
   "metadata": {},
   "outputs": [],
   "source": [
    "birthweight['m_cigs'] = birthweight['cigs'].apply(lambda x: 1 if x >= 2 else 0)\n"
   ]
  },
  {
   "cell_type": "code",
   "execution_count": 37,
   "id": "e1707c32",
   "metadata": {},
   "outputs": [],
   "source": [
    "# As per https://www.webmd.com/baby/how-often-do-i-need-prenatal-visits#1-2. A total of 14 visits is recommended, so i have considered 7 as the threshold.\n",
    "birthweight['m_npvis'] = birthweight['npvis'].apply(lambda x: 1 if x < 7 else 0)\n"
   ]
  },
  {
   "cell_type": "code",
   "execution_count": 38,
   "id": "e593b5c1",
   "metadata": {},
   "outputs": [],
   "source": [
    "birthweight['m_monpre'] = birthweight['monpre'].apply(lambda x: 1 if x > 4 else 0)"
   ]
  },
  {
   "cell_type": "markdown",
   "id": "d663f77d",
   "metadata": {},
   "source": [
    "## Prepare for Model Development\n",
    "\n",
    "### Assigning Explanatory and Response variables"
   ]
  },
  {
   "cell_type": "code",
   "execution_count": 39,
   "id": "e67bdcd1",
   "metadata": {
    "scrolled": false
   },
   "outputs": [
    {
     "data": {
      "text/plain": [
       "Index(['fage', 'cigs', 'drink', 'interaction_fage_mage', 'm_mage', 'm_npvis'], dtype='object')"
      ]
     },
     "execution_count": 39,
     "metadata": {},
     "output_type": "execute_result"
    }
   ],
   "source": [
    "# Explanatory variables\n",
    "# Dropping variables with high p-value and variables that does not explain target variable\n",
    "x = birthweight.drop(['bwght','log_bwght','log_cigs','m_fage','mwhte','m_cigs','m_meduc','log_mage','m_monpre','monpre','meduc', 'npvis','fwhte','feduc','log_feduc','log_monpre','interaction_cigs_mage','log_drink','male','mage','fblck','log_meduc','interaction_cigs_drink','interaction_drink_mage','mblck','foth','moth','omaps','fmaps','smoking_weekly','log_npvis','interaction_meduc_feduc'], axis=1)\n",
    "\n",
    "# Response variable\n",
    "y = birthweight['bwght']\n",
    "\n",
    "x.columns"
   ]
  },
  {
   "cell_type": "markdown",
   "id": "67995c68",
   "metadata": {},
   "source": [
    "### Train Test Split"
   ]
  },
  {
   "cell_type": "code",
   "execution_count": 40,
   "id": "93d010cb",
   "metadata": {
    "scrolled": true
   },
   "outputs": [],
   "source": [
    "x_train, x_test, y_train, y_test = train_test_split(x, y, test_size = 0.25, random_state = 219)"
   ]
  },
  {
   "cell_type": "markdown",
   "id": "f4bc0b61",
   "metadata": {},
   "source": [
    "## Model Development in statsmodels\n",
    "\n",
    "### Ordinary Least Squares Regression"
   ]
  },
  {
   "cell_type": "code",
   "execution_count": 41,
   "id": "311f10ec",
   "metadata": {
    "scrolled": true
   },
   "outputs": [
    {
     "name": "stdout",
     "output_type": "stream",
     "text": [
      "m_mage +\n",
      "fage +\n",
      "cigs +\n",
      "drink +\n",
      "interaction_fage_mage +\n"
     ]
    }
   ],
   "source": [
    "# declaring set of x-variables\n",
    "x_variables = ['m_mage','fage','cigs','drink','interaction_fage_mage']\n",
    "\n",
    "# looping to make x-variables suitable for statsmodels\n",
    "for val in x_variables:\n",
    "    print(f\"{val} +\")"
   ]
  },
  {
   "cell_type": "code",
   "execution_count": 42,
   "id": "1f1ab288",
   "metadata": {
    "scrolled": true
   },
   "outputs": [
    {
     "name": "stdout",
     "output_type": "stream",
     "text": [
      "                            OLS Regression Results                            \n",
      "==============================================================================\n",
      "Dep. Variable:                  bwght   R-squared:                       0.746\n",
      "Model:                            OLS   Adj. R-squared:                  0.735\n",
      "Method:                 Least Squares   F-statistic:                     68.47\n",
      "Date:                Thu, 02 Dec 2021   Prob (F-statistic):           3.28e-39\n",
      "Time:                        22:51:09   Log-Likelihood:                -1064.0\n",
      "No. Observations:                 147   AIC:                             2142.\n",
      "Df Residuals:                     140   BIC:                             2163.\n",
      "Df Model:                           6                                         \n",
      "Covariance Type:            nonrobust                                         \n",
      "=========================================================================================\n",
      "                            coef    std err          t      P>|t|      [0.025      0.975]\n",
      "-----------------------------------------------------------------------------------------\n",
      "Intercept              4086.5726    196.781     20.767      0.000    3697.526    4475.619\n",
      "m_mage                  268.4988     84.902      3.162      0.002     100.643     436.354\n",
      "fage                     97.9473     20.013      4.894      0.000      58.380     137.515\n",
      "cigs                    -39.0680      4.911     -7.955      0.000     -48.778     -29.358\n",
      "drink                  -102.9535     10.797     -9.535      0.000    -124.300     -81.607\n",
      "m_npvis                -263.3023    115.443     -2.281      0.024    -491.539     -35.066\n",
      "interaction_fage_mage   -25.8858      4.646     -5.572      0.000     -35.070     -16.701\n",
      "==============================================================================\n",
      "Omnibus:                        8.225   Durbin-Watson:                   1.999\n",
      "Prob(Omnibus):                  0.016   Jarque-Bera (JB):               10.167\n",
      "Skew:                           0.359   Prob(JB):                      0.00620\n",
      "Kurtosis:                       4.069   Cond. No.                     1.12e+03\n",
      "==============================================================================\n",
      "\n",
      "Notes:\n",
      "[1] Standard Errors assume that the covariance matrix of the errors is correctly specified.\n",
      "[2] The condition number is large, 1.12e+03. This might indicate that there are\n",
      "strong multicollinearity or other numerical problems.\n"
     ]
    }
   ],
   "source": [
    "birthweight_train = pd.concat([x_train, y_train], axis = 1)\n",
    "\n",
    "# Step 1: INSTANTIATE a model object\n",
    "lm_best = smf.ols(formula = \"\"\"bwght ~  m_mage +\n",
    "                                        fage +\n",
    "                                        cigs +\n",
    "                                        drink +\n",
    "                                        m_npvis +\n",
    "                                        interaction_fage_mage \n",
    "                                       \"\"\",                  \n",
    "                  data = birthweight_train)\n",
    "\n",
    "# Step 2: FIT the data into the model object\n",
    "results = lm_best.fit()\n",
    "\n",
    "\n",
    "# Step 3: analyze the SUMMARY output\n",
    "print(results.summary())"
   ]
  },
  {
   "cell_type": "markdown",
   "id": "3bc8734d",
   "metadata": {},
   "source": [
    "## Develop Candidate Models\n",
    "\n",
    "### Linear Regression"
   ]
  },
  {
   "cell_type": "code",
   "execution_count": 43,
   "id": "f7467df4",
   "metadata": {
    "scrolled": true
   },
   "outputs": [
    {
     "name": "stdout",
     "output_type": "stream",
     "text": [
      "OLS Training Score : 0.7458\n",
      "OLS Testing Score  : 0.6482\n",
      "OLS Train-Test Gap : 0.0976\n"
     ]
    }
   ],
   "source": [
    "#Linear Regression\n",
    "lr = LinearRegression()\n",
    "\n",
    "\n",
    "# Fitting the model\n",
    "lr_fit = lr.fit(x_train, y_train)\n",
    "\n",
    "\n",
    "# Predictions\n",
    "lr_pred = lr_fit.predict(x_test)\n",
    "\n",
    "# SCORING the results\n",
    "print('OLS Training Score :', lr.score(x_train, y_train).round(4))\n",
    "print('OLS Testing Score  :', lr.score(x_test, y_test).round(4))\n",
    "\n",
    "\n",
    "# saving scoring data for future use\n",
    "lr_train_score = lr.score(x_train, y_train).round(4) # using R-square\n",
    "lr_test_score  = lr.score(x_test, y_test).round(4)   # using R-square\n",
    "\n",
    "\n",
    "# displaying and saving the gap between training and testing\n",
    "print('OLS Train-Test Gap :', abs(lr_train_score - lr_test_score).round(4))\n",
    "lr_test_gap = abs(lr_train_score - lr_test_score).round(4)"
   ]
  },
  {
   "cell_type": "code",
   "execution_count": 44,
   "id": "ff3badc2",
   "metadata": {
    "scrolled": true
   },
   "outputs": [
    {
     "name": "stdout",
     "output_type": "stream",
     "text": [
      "('intercept', 4086.57)\n",
      "('fage', 97.95)\n",
      "('cigs', -39.07)\n",
      "('drink', -102.95)\n",
      "('interaction_fage_mage', -25.89)\n",
      "('m_mage', 268.5)\n",
      "('m_npvis', -263.3)\n"
     ]
    }
   ],
   "source": [
    "# zipping each feature name to its coefficient\n",
    "lr_model_values = zip(x.columns,\n",
    "                      lr_fit.coef_.round(decimals = 2))\n",
    "\n",
    "\n",
    "# setting up a placeholder list to store model features\n",
    "lr_model_lst = [('intercept', lr_fit.intercept_.round(decimals = 2))]\n",
    "\n",
    "\n",
    "# printing out each feature-coefficient pair one by one\n",
    "for val in lr_model_values:\n",
    "    lr_model_lst.append(val)\n",
    "    \n",
    "\n",
    "# checking the results\n",
    "for pair in lr_model_lst:\n",
    "    print(pair)"
   ]
  },
  {
   "cell_type": "markdown",
   "id": "df765597",
   "metadata": {},
   "source": [
    "### Lasso Regression"
   ]
  },
  {
   "cell_type": "code",
   "execution_count": 45,
   "id": "d0c90b10",
   "metadata": {
    "scrolled": true
   },
   "outputs": [
    {
     "name": "stdout",
     "output_type": "stream",
     "text": [
      "Lasso Training Score : 0.7015\n",
      "Lasso Testing Score  : 0.688\n",
      "Lasso Train-Test Gap : 0.0135\n"
     ]
    }
   ],
   "source": [
    "# INSTANTIATING a model object\n",
    "lasso_model = sk.linear_model.Lasso(alpha     = 1.0,  # default shrinkage\n",
    "                                    normalize = True) # default magitude\n",
    "\n",
    "\n",
    "# FITTING to the training data\n",
    "lasso_fit = lasso_model.fit(x_train, y_train)\n",
    "\n",
    "\n",
    "# PREDICTING on new data\n",
    "lasso_pred = lasso_fit.predict(x_test)\n",
    "\n",
    "\n",
    "# SCORING the results\n",
    "print('Lasso Training Score :', lasso_model.score(x_train, y_train).round(4))\n",
    "print('Lasso Testing Score  :', lasso_model.score(x_test, y_test).round(4))\n",
    "\n",
    "\n",
    "## the following code has been provided for you ##\n",
    "\n",
    "# saving scoring data for future use\n",
    "lasso_train_score = lasso_model.score(x_train, y_train).round(4) # using R-square\n",
    "lasso_test_score  = lasso_model.score(x_test, y_test).round(4)   # using R-square\n",
    "\n",
    "\n",
    "# displaying and saving the gap between training and testing\n",
    "print('Lasso Train-Test Gap :', abs(lasso_train_score - lasso_test_score).round(4))\n",
    "lasso_test_gap = abs(lasso_train_score - lasso_test_score).round(4)"
   ]
  },
  {
   "cell_type": "code",
   "execution_count": 46,
   "id": "df54e443",
   "metadata": {
    "scrolled": true
   },
   "outputs": [
    {
     "name": "stdout",
     "output_type": "stream",
     "text": [
      "('intercept', 4835.74)\n",
      "('fage', 0.0)\n",
      "('cigs', -35.47)\n",
      "('drink', -112.18)\n",
      "('interaction_fage_mage', -3.29)\n",
      "('m_mage', -0.0)\n",
      "('m_npvis', -244.98)\n"
     ]
    }
   ],
   "source": [
    "# zipping each feature name to its coefficient\n",
    "lasso_model_values = zip(x.columns, lasso_fit.coef_.round(decimals = 2))\n",
    "\n",
    "\n",
    "# setting up a placeholder list to store model features\n",
    "lasso_model_lst = [('intercept', lasso_fit.intercept_.round(decimals = 2))]\n",
    "\n",
    "\n",
    "# printing out each feature-coefficient pair one by one\n",
    "for val in lasso_model_values:\n",
    "    lasso_model_lst.append(val)\n",
    "    \n",
    "\n",
    "# checking the results\n",
    "for pair in lasso_model_lst:\n",
    "    print(pair)"
   ]
  },
  {
   "cell_type": "markdown",
   "id": "42567c9d",
   "metadata": {},
   "source": [
    "### ARD Regression Model"
   ]
  },
  {
   "cell_type": "code",
   "execution_count": 47,
   "id": "96eb3879",
   "metadata": {
    "scrolled": true
   },
   "outputs": [
    {
     "name": "stdout",
     "output_type": "stream",
     "text": [
      "Training Score: 0.7447\n",
      "Testing Score : 0.6602\n",
      "ARD Train-Test Gap : 0.0845\n"
     ]
    }
   ],
   "source": [
    "\n",
    "# INSTANTIATING a model object\n",
    "ard_model = sk.linear_model.ARDRegression(normalize  = False)\n",
    "\n",
    "\n",
    "# FITTING the training data\n",
    "ard_fit = ard_model.fit(x_train, y_train)\n",
    "\n",
    "\n",
    "# PREDICTING on new data\n",
    "ard_pred = ard_fit.predict(x_test)\n",
    "\n",
    "\n",
    "print('Training Score:', ard_model.score(x_train, y_train).round(4))\n",
    "print('Testing Score :', ard_model.score(x_test, y_test).round(4))\n",
    "\n",
    "\n",
    "# saving scoring data for future use\n",
    "ard_train_score = ard_model.score(x_train, y_train).round(4)\n",
    "ard_test_score  = ard_model.score(x_test, y_test).round(4)\n",
    "\n",
    "\n",
    "# displaying and saving the gap between training and testing\n",
    "print('ARD Train-Test Gap :', abs(ard_train_score - ard_test_score).round(4))\n",
    "ard_test_gap = abs(ard_train_score - ard_test_score).round(4)"
   ]
  },
  {
   "cell_type": "code",
   "execution_count": 48,
   "id": "cc6f8156",
   "metadata": {
    "scrolled": true
   },
   "outputs": [
    {
     "name": "stdout",
     "output_type": "stream",
     "text": [
      "('intercept', 4183.55)\n",
      "('fage', 85.92317)\n",
      "('cigs', -38.33251)\n",
      "('drink', -103.90317)\n",
      "('interaction_fage_mage', -23.11374)\n",
      "('m_mage', 218.01268)\n",
      "('m_npvis', -217.60072)\n"
     ]
    }
   ],
   "source": [
    "# zipping each feature name to its coefficient\n",
    "ard_model_values = zip(x.columns, ard_fit.coef_.round(decimals = 5))\n",
    "\n",
    "\n",
    "# setting up a placeholder list to store model features\n",
    "ard_model_lst = [('intercept', ard_fit.intercept_.round(decimals = 2))]\n",
    "\n",
    "\n",
    "# printing out each feature-coefficient pair one by one\n",
    "for val in ard_model_values:\n",
    "    ard_model_lst.append(val)\n",
    "    \n",
    "\n",
    "# checking the results\n",
    "for pair in ard_model_lst:\n",
    "    print(pair)"
   ]
  },
  {
   "cell_type": "code",
   "execution_count": 49,
   "id": "3a365554",
   "metadata": {
    "scrolled": true
   },
   "outputs": [
    {
     "name": "stdout",
     "output_type": "stream",
     "text": [
      "('intercept', 4183.55)\n",
      "('fage', 85.92317)\n",
      "('cigs', -38.33251)\n",
      "('drink', -103.90317)\n",
      "('interaction_fage_mage', -23.11374)\n",
      "('m_mage', 218.01268)\n",
      "('m_npvis', -217.60072)\n"
     ]
    }
   ],
   "source": [
    "## This code may have to be run more than once ##\n",
    "\n",
    "# dropping coefficients that are equal to zero\n",
    "\n",
    "# printing out each feature-coefficient pair one by one\n",
    "for feature, coefficient in ard_model_lst:\n",
    "        \n",
    "        if coefficient == 0:\n",
    "            ard_model_lst.remove((feature, coefficient))\n",
    "\n",
    "            \n",
    "# checking the results\n",
    "for pair in ard_model_lst:\n",
    "    print(pair)"
   ]
  },
  {
   "cell_type": "markdown",
   "id": "2dbeaa33",
   "metadata": {},
   "source": [
    "### k-Nearest Neighbors with Non-Standardized Data"
   ]
  },
  {
   "cell_type": "code",
   "execution_count": 50,
   "id": "e7d24540",
   "metadata": {
    "scrolled": true
   },
   "outputs": [
    {
     "name": "stdout",
     "output_type": "stream",
     "text": [
      "KNN Training Score: 1.0\n",
      "KNN Testing Score : 0.2965\n",
      "KNN Train-Test Gap: 0.7035\n"
     ]
    }
   ],
   "source": [
    "# INSTANTIATING a KNN model object\n",
    "knn_reg = KNeighborsRegressor(algorithm = 'auto',\n",
    "                              n_neighbors = 1)\n",
    "\n",
    "\n",
    "# FITTING to the training data\n",
    "knn_fit = knn_reg.fit(x_train, y_train)\n",
    "\n",
    "\n",
    "# PREDICTING on new data\n",
    "knn_reg_pred = knn_fit.predict(x_test)\n",
    "\n",
    "\n",
    "# SCORING the results\n",
    "print('KNN Training Score:', knn_reg.score(x_train, y_train).round(4))\n",
    "print('KNN Testing Score :', knn_reg.score(x_test, y_test).round(4))\n",
    "\n",
    "\n",
    "# saving scoring data for future use\n",
    "knn_reg_score_train = knn_reg.score(x_train, y_train).round(4)\n",
    "knn_reg_score_test  = knn_reg.score(x_test, y_test).round(4)\n",
    "\n",
    "\n",
    "# displaying and saving the gap between training and testing\n",
    "print('KNN Train-Test Gap:', abs(knn_reg_score_train - knn_reg_score_test).round(4))\n",
    "knn_reg_test_gap = abs(knn_reg_score_train - knn_reg_score_test).round(4)"
   ]
  },
  {
   "cell_type": "code",
   "execution_count": 51,
   "id": "988e7419",
   "metadata": {
    "scrolled": true
   },
   "outputs": [
    {
     "data": {
      "image/png": "[encoded data removed]",
      "text/plain": [
       "<Figure size 864x576 with 1 Axes>"
      ]
     },
     "metadata": {
      "needs_background": "light"
     },
     "output_type": "display_data"
    }
   ],
   "source": [
    "# creating lists for training set accuracy and test set accuracy\n",
    "training_accuracy = []\n",
    "test_accuracy     = []\n",
    "\n",
    "\n",
    "# building a visualization of 1 to 50 neighbors\n",
    "neighbors_settings = range(1, 51)\n",
    "\n",
    "\n",
    "for n_neighbors in neighbors_settings:\n",
    "    # Building the model\n",
    "    clf = KNeighborsRegressor(n_neighbors = n_neighbors)\n",
    "    clf.fit(x_train, y_train)\n",
    "    \n",
    "    # Recording the training set accuracy\n",
    "    training_accuracy.append(clf.score(x_train, y_train))\n",
    "    \n",
    "    # Recording the generalization accuracy\n",
    "    test_accuracy.append(clf.score(x_test, y_test))\n",
    "\n",
    "\n",
    "# plotting the visualization\n",
    "fig, ax = plt.subplots(figsize=(12,8))\n",
    "plt.plot(neighbors_settings, training_accuracy, label = \"training accuracy\")\n",
    "plt.plot(neighbors_settings, test_accuracy, label = \"test accuracy\")\n",
    "plt.ylabel(\"Accuracy\")\n",
    "plt.xlabel(\"n_neighbors\")\n",
    "plt.legend()\n",
    "plt.show()"
   ]
  },
  {
   "cell_type": "code",
   "execution_count": 52,
   "id": "7e25c078",
   "metadata": {
    "scrolled": true
   },
   "outputs": [
    {
     "name": "stdout",
     "output_type": "stream",
     "text": [
      "The optimal number of neighbors is 3\n"
     ]
    }
   ],
   "source": [
    "# finding the optimal number of neighbors\n",
    "opt_neighbors = test_accuracy.index(max(test_accuracy)) + 1\n",
    "print(f\"\"\"The optimal number of neighbors is {opt_neighbors}\"\"\")"
   ]
  },
  {
   "cell_type": "code",
   "execution_count": 53,
   "id": "ab1bb497",
   "metadata": {
    "scrolled": true
   },
   "outputs": [
    {
     "name": "stdout",
     "output_type": "stream",
     "text": [
      "KNN Training Score: 0.7349\n",
      "KNN Testing Score : 0.3796\n",
      "KNN Train-Test Gap: 0.3553\n"
     ]
    }
   ],
   "source": [
    "# INSTANTIATING a model with the optimal number of neighbors\n",
    "knn_opt = KNeighborsRegressor(algorithm   = 'auto',\n",
    "                              n_neighbors = opt_neighbors)\n",
    "\n",
    "\n",
    "\n",
    "# FITTING the model based on the training data\n",
    "knn_opt_fit = knn_opt.fit(x_train, y_train)\n",
    "\n",
    "\n",
    "\n",
    "# PREDITCING on new data\n",
    "knn_opt_pred = knn_opt_fit.predict(x_test)\n",
    "\n",
    "\n",
    "\n",
    "# SCORING the results\n",
    "print('KNN Training Score:', knn_opt.score(x_train, y_train).round(4))\n",
    "print('KNN Testing Score :', knn_opt.score(x_test, y_test).round(4))\n",
    "\n",
    "\n",
    "# saving scoring data for future use\n",
    "knn_opt_score_train = knn_opt.score(x_train, y_train).round(4)\n",
    "knn_opt_score_test  = knn_opt.score(x_test, y_test).round(4)\n",
    "\n",
    "\n",
    "# displaying and saving the gap between training and testing\n",
    "print('KNN Train-Test Gap:', abs(knn_opt_score_train - knn_opt_score_test).round(4))\n",
    "knn_opt_test_gap = abs(knn_opt_score_train - knn_opt_score_test).round(4)"
   ]
  },
  {
   "cell_type": "markdown",
   "id": "9fcbc0ce",
   "metadata": {},
   "source": [
    "### k-Nearest Neighbors with Standardized Data"
   ]
  },
  {
   "cell_type": "code",
   "execution_count": 54,
   "id": "8f5a4402",
   "metadata": {
    "scrolled": true
   },
   "outputs": [
    {
     "data": {
      "text/html": [
       "<div>\n",
       "<style scoped>\n",
       "    .dataframe tbody tr th:only-of-type {\n",
       "        vertical-align: middle;\n",
       "    }\n",
       "\n",
       "    .dataframe tbody tr th {\n",
       "        vertical-align: top;\n",
       "    }\n",
       "\n",
       "    .dataframe thead th {\n",
       "        text-align: right;\n",
       "    }\n",
       "</style>\n",
       "<table border=\"1\" class=\"dataframe\">\n",
       "  <thead>\n",
       "    <tr style=\"text-align: right;\">\n",
       "      <th></th>\n",
       "      <th>0</th>\n",
       "      <th>1</th>\n",
       "      <th>2</th>\n",
       "      <th>3</th>\n",
       "      <th>4</th>\n",
       "      <th>5</th>\n",
       "    </tr>\n",
       "  </thead>\n",
       "  <tbody>\n",
       "    <tr>\n",
       "      <th>count</th>\n",
       "      <td>196.00</td>\n",
       "      <td>196.00</td>\n",
       "      <td>196.00</td>\n",
       "      <td>196.00</td>\n",
       "      <td>196.00</td>\n",
       "      <td>196.00</td>\n",
       "    </tr>\n",
       "    <tr>\n",
       "      <th>mean</th>\n",
       "      <td>0.00</td>\n",
       "      <td>-0.00</td>\n",
       "      <td>-0.00</td>\n",
       "      <td>0.00</td>\n",
       "      <td>-0.00</td>\n",
       "      <td>-0.00</td>\n",
       "    </tr>\n",
       "    <tr>\n",
       "      <th>std</th>\n",
       "      <td>1.00</td>\n",
       "      <td>1.00</td>\n",
       "      <td>1.00</td>\n",
       "      <td>1.00</td>\n",
       "      <td>1.00</td>\n",
       "      <td>1.00</td>\n",
       "    </tr>\n",
       "    <tr>\n",
       "      <th>min</th>\n",
       "      <td>-1.82</td>\n",
       "      <td>-1.80</td>\n",
       "      <td>-1.80</td>\n",
       "      <td>-1.65</td>\n",
       "      <td>-1.37</td>\n",
       "      <td>-0.27</td>\n",
       "    </tr>\n",
       "    <tr>\n",
       "      <th>25%</th>\n",
       "      <td>-0.51</td>\n",
       "      <td>-0.81</td>\n",
       "      <td>-0.47</td>\n",
       "      <td>-0.63</td>\n",
       "      <td>-1.37</td>\n",
       "      <td>-0.27</td>\n",
       "    </tr>\n",
       "    <tr>\n",
       "      <th>50%</th>\n",
       "      <td>-0.14</td>\n",
       "      <td>0.01</td>\n",
       "      <td>-0.13</td>\n",
       "      <td>-0.23</td>\n",
       "      <td>0.73</td>\n",
       "      <td>-0.27</td>\n",
       "    </tr>\n",
       "    <tr>\n",
       "      <th>75%</th>\n",
       "      <td>0.41</td>\n",
       "      <td>0.71</td>\n",
       "      <td>0.62</td>\n",
       "      <td>0.23</td>\n",
       "      <td>0.73</td>\n",
       "      <td>-0.27</td>\n",
       "    </tr>\n",
       "    <tr>\n",
       "      <th>max</th>\n",
       "      <td>3.76</td>\n",
       "      <td>2.31</td>\n",
       "      <td>2.87</td>\n",
       "      <td>3.82</td>\n",
       "      <td>0.73</td>\n",
       "      <td>3.75</td>\n",
       "    </tr>\n",
       "  </tbody>\n",
       "</table>\n",
       "</div>"
      ],
      "text/plain": [
       "            0       1       2       3       4       5\n",
       "count  196.00  196.00  196.00  196.00  196.00  196.00\n",
       "mean     0.00   -0.00   -0.00    0.00   -0.00   -0.00\n",
       "std      1.00    1.00    1.00    1.00    1.00    1.00\n",
       "min     -1.82   -1.80   -1.80   -1.65   -1.37   -0.27\n",
       "25%     -0.51   -0.81   -0.47   -0.63   -1.37   -0.27\n",
       "50%     -0.14    0.01   -0.13   -0.23    0.73   -0.27\n",
       "75%      0.41    0.71    0.62    0.23    0.73   -0.27\n",
       "max      3.76    2.31    2.87    3.82    0.73    3.75"
      ]
     },
     "execution_count": 54,
     "metadata": {},
     "output_type": "execute_result"
    }
   ],
   "source": [
    "# INSTANTIATING a StandardScaler() object\n",
    "scaler = StandardScaler()\n",
    "\n",
    "\n",
    "# FITTING the scaler with the data\n",
    "scaler.fit(x)\n",
    "\n",
    "\n",
    "# TRANSFORMING our data after fit\n",
    "x_scaled = scaler.transform(x)\n",
    "\n",
    "\n",
    "# converting scaled data into a DataFrame\n",
    "x_scaled_df = pd.DataFrame(x_scaled)\n",
    "\n",
    "\n",
    "# checking the results\n",
    "x_scaled_df.describe().round(2)"
   ]
  },
  {
   "cell_type": "code",
   "execution_count": 55,
   "id": "e356f5c2",
   "metadata": {
    "scrolled": true
   },
   "outputs": [
    {
     "name": "stdout",
     "output_type": "stream",
     "text": [
      "\n",
      "Dataset BEFORE Scaling\n",
      "----------------------\n",
      "fage                       80.277671\n",
      "cigs                       37.035714\n",
      "drink                       8.964077\n",
      "interaction_fage_mage    1650.226737\n",
      "m_mage                      0.226572\n",
      "m_npvis                     0.061927\n",
      "dtype: float64\n",
      "\n",
      "\n",
      "Dataset AFTER Scaling\n",
      "----------------------\n",
      "fage                     1.0\n",
      "cigs                     1.0\n",
      "drink                    1.0\n",
      "interaction_fage_mage    1.0\n",
      "m_mage                   1.0\n",
      "m_npvis                  1.0\n",
      "dtype: float64\n",
      "\n"
     ]
    }
   ],
   "source": [
    "# adding labels to the scaled DataFrame\n",
    "x_scaled_df.columns = x.columns\n",
    "\n",
    "#  Checking pre- and post-scaling of the data\n",
    "print(f\"\"\"\n",
    "Dataset BEFORE Scaling\n",
    "----------------------\n",
    "{np.var(x)}\n",
    "\n",
    "\n",
    "Dataset AFTER Scaling\n",
    "----------------------\n",
    "{np.var(x_scaled_df)}\n",
    "\"\"\")"
   ]
  },
  {
   "cell_type": "code",
   "execution_count": 56,
   "id": "132ec37a",
   "metadata": {
    "scrolled": true
   },
   "outputs": [],
   "source": [
    "# this is the exact code we were using before\n",
    "x_train_STAND, x_test_STAND, y_train_STAND, y_test_STAND = train_test_split(\n",
    "                                                           x_scaled_df,\n",
    "                                                           y,\n",
    "                                                           test_size = 0.25,\n",
    "                                                           random_state = 219)"
   ]
  },
  {
   "cell_type": "code",
   "execution_count": 57,
   "id": "47e59c8f",
   "metadata": {
    "scrolled": true
   },
   "outputs": [
    {
     "data": {
      "image/png": "[encoded data removed]",
      "text/plain": [
       "<Figure size 864x576 with 1 Axes>"
      ]
     },
     "metadata": {
      "needs_background": "light"
     },
     "output_type": "display_data"
    },
    {
     "name": "stdout",
     "output_type": "stream",
     "text": [
      "The optimal number of neighbors is 5\n"
     ]
    }
   ],
   "source": [
    "# creating lists for training set accuracy and test set accuracy\n",
    "training_accuracy = []\n",
    "test_accuracy = []\n",
    "\n",
    "\n",
    "# building a visualization of 1 to 50 neighbors\n",
    "neighbors_settings = range(1, 51)\n",
    "\n",
    "\n",
    "for n_neighbors in neighbors_settings:\n",
    "    # Building the model\n",
    "    clf = KNeighborsRegressor(n_neighbors = n_neighbors)\n",
    "    clf.fit(x_train_STAND, y_train_STAND)\n",
    "    \n",
    "    # Recording the training set accuracy\n",
    "    training_accuracy.append(clf.score(x_train_STAND, y_train_STAND))\n",
    "    \n",
    "    # Recording the generalization accuracy\n",
    "    test_accuracy.append(clf.score(x_test_STAND, y_test_STAND))\n",
    "\n",
    "\n",
    "# plotting the visualization\n",
    "fig, ax = plt.subplots(figsize=(12,8))\n",
    "plt.plot(neighbors_settings, training_accuracy, label = \"training accuracy\")\n",
    "plt.plot(neighbors_settings, test_accuracy,     label = \"test accuracy\")\n",
    "plt.ylabel(\"Accuracy\")\n",
    "plt.xlabel(\"n_neighbors\")\n",
    "plt.legend()\n",
    "plt.show()\n",
    "\n",
    "\n",
    "# finding the optimal number of neighbors\n",
    "opt_neighbors = test_accuracy.index(max(test_accuracy)) + 1\n",
    "print(f\"\"\"The optimal number of neighbors is {opt_neighbors}\"\"\")"
   ]
  },
  {
   "cell_type": "code",
   "execution_count": 58,
   "id": "08fee289",
   "metadata": {
    "scrolled": true
   },
   "outputs": [
    {
     "name": "stdout",
     "output_type": "stream",
     "text": [
      "KNN Training Score: 0.7462\n",
      "KNN Testing Score : 0.6572\n",
      "KNN Train-Test Gap: 0.089\n"
     ]
    }
   ],
   "source": [
    "# INSTANTIATING a model with the optimal number of neighbors\n",
    "knn_stand = KNeighborsRegressor(algorithm = 'auto',\n",
    "                                n_neighbors = opt_neighbors)\n",
    "\n",
    "\n",
    "\n",
    "# FITTING the model based on the training data\n",
    "knn_stand_fit = knn_stand.fit(x_train_STAND, y_train_STAND)\n",
    "\n",
    "\n",
    "\n",
    "# PREDITCING on new data\n",
    "knn_stand_pred = knn_stand_fit.predict(x_test_STAND)\n",
    "\n",
    "\n",
    "\n",
    "# SCORING the results\n",
    "print('KNN Training Score:', knn_stand.score(x_train_STAND, y_train_STAND).round(4))\n",
    "print('KNN Testing Score :', knn_stand.score(x_test_STAND, y_test_STAND).round(4))\n",
    "\n",
    "\n",
    "# saving scoring data for future use\n",
    "knn_stand_score_train = knn_stand.score(x_train_STAND, y_train_STAND).round(4)\n",
    "knn_stand_score_test  = knn_stand.score(x_test_STAND, y_test_STAND).round(4)\n",
    "\n",
    "\n",
    "# displaying and saving the gap between training and testing\n",
    "print('KNN Train-Test Gap:', abs(knn_stand_score_train - knn_stand_score_test).round(4))\n",
    "knn_stand_test_gap = abs(knn_stand_score_train - knn_stand_score_test).round(4)"
   ]
  },
  {
   "cell_type": "markdown",
   "id": "b6aaa5de",
   "metadata": {},
   "source": [
    "## Model Performance\n",
    "\n",
    "### Comparing the performance across different model and write to excel file "
   ]
  },
  {
   "cell_type": "code",
   "execution_count": 59,
   "id": "d3cae56f",
   "metadata": {
    "scrolled": true
   },
   "outputs": [
    {
     "name": "stdout",
     "output_type": "stream",
     "text": [
      "\n",
      "Model                 Train Score      Test Score          Test Gap\n",
      "-----                 -----------      ----------          --------\n",
      "OLS                   0.7458             0.6482              0.0976\n",
      "Lasso(Final Model)    0.7015           0.688              0.0135\n",
      "ARD                   0.7447           0.6602              0.0845\n",
      "\n"
     ]
    }
   ],
   "source": [
    "# comparing results\n",
    "\n",
    "print(f\"\"\"\n",
    "Model                 Train Score      Test Score          Test Gap\n",
    "-----                 -----------      ----------          --------\n",
    "OLS                   {lr_train_score}             {lr_test_score}              {lr_test_gap}\n",
    "Lasso(Final Model)    {lasso_train_score}           {lasso_test_score}              {lasso_test_gap}\n",
    "ARD                   {ard_train_score}           {ard_test_score}              {ard_test_gap}\n",
    "\"\"\")\n",
    "\n",
    "\n",
    "# creating a dictionary for model results\n",
    "model_performance = {\n",
    "    \n",
    "    'Model Type'    : ['OLS', 'Lasso', 'ARD'],\n",
    "           \n",
    "    'Training' : [lr_train_score, lasso_train_score,\n",
    "                                   ard_train_score],\n",
    "           \n",
    "    'Testing'  : [lr_test_score, lasso_test_score,\n",
    "                                   ard_test_score],\n",
    "                    \n",
    "    'Train-Test Gap' : [lr_test_gap, lasso_test_gap,\n",
    "                                        ard_test_gap],\n",
    "                    \n",
    "    'Model Size' : [len(lr_model_lst), len(lasso_model_lst),\n",
    "                                    len(ard_model_lst)],\n",
    "                    \n",
    "    'Model' : [lr_model_lst, lasso_model_lst, ard_model_lst]}\n",
    "\n",
    "\n",
    "# converting model_performance into a DataFrame\n",
    "model_performance = pd.DataFrame(model_performance)\n",
    "\n",
    "\n",
    "# sending model results to Excel\n",
    "model_performance.to_excel('./__model_results/linear_model_performance.xlsx',\n",
    "                           index = False)"
   ]
  },
  {
   "cell_type": "code",
   "execution_count": 60,
   "id": "02ddd5b8",
   "metadata": {
    "scrolled": true
   },
   "outputs": [
    {
     "name": "stdout",
     "output_type": "stream",
     "text": [
      "\n",
      "KNN Model             Neighbors     Train Score      Test Score      Test Gap\n",
      "----------------      ---------     ----------       ----------      ---------\n",
      "Non-Standardized      1             1.0           0.2965          0.7035\n",
      "Non-Standardized      3             0.7349           0.3796          0.3553\n",
      "Standardized          6             0.7462           0.6572          0.089\n",
      "\n"
     ]
    }
   ],
   "source": [
    "# comparing results\n",
    "\n",
    "print(f\"\"\"\n",
    "KNN Model             Neighbors     Train Score      Test Score      Test Gap\n",
    "----------------      ---------     ----------       ----------      ---------\n",
    "Non-Standardized      1             {knn_reg_score_train}           {knn_reg_score_test}          {knn_reg_test_gap}\n",
    "Non-Standardized      3             {knn_opt_score_train}           {knn_opt_score_test}          {knn_opt_test_gap}\n",
    "Standardized          6             {knn_stand_score_train}           {knn_stand_score_test}          {knn_stand_test_gap}\n",
    "\"\"\")\n",
    "\n",
    "\n",
    "# creating a dictionary for model results\n",
    "model_performance = {\n",
    "    \n",
    "    'Model Type'    : ['KNN_Not_Standardized', 'KNN_Not_Standardized_Opt', 'KNN_Standardized_Opt'],\n",
    "           \n",
    "    \n",
    "    'Training' : [knn_reg_score_train,\n",
    "                  knn_opt_score_train,\n",
    "                  knn_stand_score_train],\n",
    "           \n",
    "    \n",
    "    'Testing'  : [knn_reg_score_test,\n",
    "                  knn_opt_score_test,\n",
    "                  knn_stand_score_test],\n",
    "                    \n",
    "    \n",
    "    'Train-Test Gap' : [knn_reg_test_gap,\n",
    "                        knn_opt_test_gap,\n",
    "                        knn_stand_test_gap],\n",
    "                   \n",
    "    \n",
    "    'Model Size' : [\"NA\", \"NA\", \"NA\"],\n",
    "                    \n",
    "    'Model'      : [\"NA\", \"NA\", \"NA\"] }"
   ]
  },
  {
   "cell_type": "code",
   "execution_count": 61,
   "id": "3a4bf990",
   "metadata": {
    "scrolled": true
   },
   "outputs": [
    {
     "data": {
      "text/html": [
       "<div>\n",
       "<style scoped>\n",
       "    .dataframe tbody tr th:only-of-type {\n",
       "        vertical-align: middle;\n",
       "    }\n",
       "\n",
       "    .dataframe tbody tr th {\n",
       "        vertical-align: top;\n",
       "    }\n",
       "\n",
       "    .dataframe thead th {\n",
       "        text-align: right;\n",
       "    }\n",
       "</style>\n",
       "<table border=\"1\" class=\"dataframe\">\n",
       "  <thead>\n",
       "    <tr style=\"text-align: right;\">\n",
       "      <th></th>\n",
       "      <th>Model Type</th>\n",
       "      <th>Training</th>\n",
       "      <th>Testing</th>\n",
       "      <th>Train-Test Gap</th>\n",
       "      <th>Model Size</th>\n",
       "      <th>Model</th>\n",
       "    </tr>\n",
       "  </thead>\n",
       "  <tbody>\n",
       "    <tr>\n",
       "      <th>0</th>\n",
       "      <td>OLS</td>\n",
       "      <td>0.7458</td>\n",
       "      <td>0.6482</td>\n",
       "      <td>0.0976</td>\n",
       "      <td>7</td>\n",
       "      <td>[('intercept', 4086.57), ('fage', 97.95), ('ci...</td>\n",
       "    </tr>\n",
       "    <tr>\n",
       "      <th>1</th>\n",
       "      <td>Lasso</td>\n",
       "      <td>0.7015</td>\n",
       "      <td>0.6880</td>\n",
       "      <td>0.0135</td>\n",
       "      <td>7</td>\n",
       "      <td>[('intercept', 4835.74), ('fage', 0.0), ('cigs...</td>\n",
       "    </tr>\n",
       "    <tr>\n",
       "      <th>2</th>\n",
       "      <td>ARD</td>\n",
       "      <td>0.7447</td>\n",
       "      <td>0.6602</td>\n",
       "      <td>0.0845</td>\n",
       "      <td>7</td>\n",
       "      <td>[('intercept', 4183.55), ('fage', 85.92317), (...</td>\n",
       "    </tr>\n",
       "    <tr>\n",
       "      <th>0</th>\n",
       "      <td>KNN_Not_Standardized</td>\n",
       "      <td>1.0000</td>\n",
       "      <td>0.2965</td>\n",
       "      <td>0.7035</td>\n",
       "      <td>NA</td>\n",
       "      <td>NA</td>\n",
       "    </tr>\n",
       "    <tr>\n",
       "      <th>1</th>\n",
       "      <td>KNN_Not_Standardized_Opt</td>\n",
       "      <td>0.7349</td>\n",
       "      <td>0.3796</td>\n",
       "      <td>0.3553</td>\n",
       "      <td>NA</td>\n",
       "      <td>NA</td>\n",
       "    </tr>\n",
       "    <tr>\n",
       "      <th>2</th>\n",
       "      <td>KNN_Standardized_Opt</td>\n",
       "      <td>0.7462</td>\n",
       "      <td>0.6572</td>\n",
       "      <td>0.0890</td>\n",
       "      <td>NA</td>\n",
       "      <td>NA</td>\n",
       "    </tr>\n",
       "  </tbody>\n",
       "</table>\n",
       "</div>"
      ],
      "text/plain": [
       "                 Model Type  Training  Testing  Train-Test Gap Model Size                                              Model\n",
       "0                       OLS    0.7458   0.6482          0.0976          7  [('intercept', 4086.57), ('fage', 97.95), ('ci...\n",
       "1                     Lasso    0.7015   0.6880          0.0135          7  [('intercept', 4835.74), ('fage', 0.0), ('cigs...\n",
       "2                       ARD    0.7447   0.6602          0.0845          7  [('intercept', 4183.55), ('fage', 85.92317), (...\n",
       "0      KNN_Not_Standardized    1.0000   0.2965          0.7035         NA                                                 NA\n",
       "1  KNN_Not_Standardized_Opt    0.7349   0.3796          0.3553         NA                                                 NA\n",
       "2      KNN_Standardized_Opt    0.7462   0.6572          0.0890         NA                                                 NA"
      ]
     },
     "execution_count": 61,
     "metadata": {},
     "output_type": "execute_result"
    }
   ],
   "source": [
    "performance_file = './__model_results/linear_model_performance.xlsx'\n",
    "performance = pd.read_excel(performance_file)\n",
    "\n",
    "# converting model_performance into a DataFrame\n",
    "model_performance = pd.DataFrame(model_performance)\n",
    "\n",
    "\n",
    "# concatenating with former performance DataFrame\n",
    "total_performance = pd.concat([performance, model_performance],\n",
    "                              axis = 0)\n",
    "\n",
    "\n",
    "total_performance.sort_values(by = 'Testing',\n",
    "                              ascending = False)\n",
    "\n",
    "\n",
    "# sending model results to Excel\n",
    "total_performance.to_excel('./__datasets/linear_model_performance.xlsx',\n",
    "                           index = False)\n",
    "\n",
    "\n",
    "# checking the results\n",
    "total_performance"
   ]
  },
  {
   "cell_type": "markdown",
   "id": "e0f18050",
   "metadata": {},
   "source": [
    "## Model Predictions\n",
    "\n",
    "### Comparing the predictions across different model and write to excel file"
   ]
  },
  {
   "cell_type": "code",
   "execution_count": 62,
   "id": "08abf5d8",
   "metadata": {
    "scrolled": true
   },
   "outputs": [],
   "source": [
    "prediction_results = pd.DataFrame(data = {\n",
    "    'Original Sale Prices' : y_test,\n",
    "    'LR Predictions'       : lr_pred.round(decimals = 2),\n",
    "    'Lasso Predictions'    : lasso_pred.round(decimals = 2),\n",
    "    'ARD Predictions'      : ard_pred.round(decimals = 2),\n",
    "    'LR Deviation'         : lr_pred.round(decimals = 2) - y_test,\n",
    "    'Lasso Deviation'      : lasso_pred.round(decimals = 2) - y_test,\n",
    "    'ARD Deviation'        : ard_pred.round(decimals = 2) - y_test,\n",
    "    })\n",
    "\n",
    "\n",
    "prediction_results.to_excel(excel_writer = './__model_results/linear_model_predictions.xlsx',\n",
    "                            index = False)"
   ]
  },
  {
   "cell_type": "code",
   "execution_count": 63,
   "id": "a0239428",
   "metadata": {
    "scrolled": true
   },
   "outputs": [
    {
     "data": {
      "text/html": [
       "<div>\n",
       "<style scoped>\n",
       "    .dataframe tbody tr th:only-of-type {\n",
       "        vertical-align: middle;\n",
       "    }\n",
       "\n",
       "    .dataframe tbody tr th {\n",
       "        vertical-align: top;\n",
       "    }\n",
       "\n",
       "    .dataframe thead th {\n",
       "        text-align: right;\n",
       "    }\n",
       "</style>\n",
       "<table border=\"1\" class=\"dataframe\">\n",
       "  <thead>\n",
       "    <tr style=\"text-align: right;\">\n",
       "      <th></th>\n",
       "      <th>Original Sale Prices</th>\n",
       "      <th>LR Predictions</th>\n",
       "      <th>Lasso Predictions</th>\n",
       "      <th>ARD Predictions</th>\n",
       "      <th>LR Deviation</th>\n",
       "      <th>Lasso Deviation</th>\n",
       "      <th>ARD Deviation</th>\n",
       "      <th>KNN</th>\n",
       "      <th>KNN Deviations</th>\n",
       "    </tr>\n",
       "  </thead>\n",
       "  <tbody>\n",
       "    <tr>\n",
       "      <th>0</th>\n",
       "      <td>3330</td>\n",
       "      <td>3593.88</td>\n",
       "      <td>3501.26</td>\n",
       "      <td>3572.55</td>\n",
       "      <td>263.88</td>\n",
       "      <td>171.26</td>\n",
       "      <td>242.55</td>\n",
       "      <td>3670.8</td>\n",
       "      <td>340.8</td>\n",
       "    </tr>\n",
       "    <tr>\n",
       "      <th>1</th>\n",
       "      <td>3850</td>\n",
       "      <td>3683.23</td>\n",
       "      <td>3564.77</td>\n",
       "      <td>3675.98</td>\n",
       "      <td>-166.77</td>\n",
       "      <td>-285.23</td>\n",
       "      <td>-174.02</td>\n",
       "      <td>3578.6</td>\n",
       "      <td>-271.4</td>\n",
       "    </tr>\n",
       "    <tr>\n",
       "      <th>2</th>\n",
       "      <td>3317</td>\n",
       "      <td>3668.71</td>\n",
       "      <td>3506.69</td>\n",
       "      <td>3639.94</td>\n",
       "      <td>351.71</td>\n",
       "      <td>189.69</td>\n",
       "      <td>322.94</td>\n",
       "      <td>3591.2</td>\n",
       "      <td>274.2</td>\n",
       "    </tr>\n",
       "    <tr>\n",
       "      <th>3</th>\n",
       "      <td>4933</td>\n",
       "      <td>4473.37</td>\n",
       "      <td>4378.15</td>\n",
       "      <td>4448.86</td>\n",
       "      <td>-459.63</td>\n",
       "      <td>-554.85</td>\n",
       "      <td>-484.14</td>\n",
       "      <td>4189.4</td>\n",
       "      <td>-743.6</td>\n",
       "    </tr>\n",
       "    <tr>\n",
       "      <th>4</th>\n",
       "      <td>2637</td>\n",
       "      <td>2956.57</td>\n",
       "      <td>2910.97</td>\n",
       "      <td>2963.53</td>\n",
       "      <td>319.57</td>\n",
       "      <td>273.97</td>\n",
       "      <td>326.53</td>\n",
       "      <td>3140.0</td>\n",
       "      <td>503.0</td>\n",
       "    </tr>\n",
       "  </tbody>\n",
       "</table>\n",
       "</div>"
      ],
      "text/plain": [
       "   Original Sale Prices  LR Predictions  Lasso Predictions  ARD Predictions  LR Deviation  Lasso Deviation  ARD Deviation     KNN  KNN Deviations\n",
       "0                  3330         3593.88            3501.26          3572.55        263.88           171.26         242.55  3670.8           340.8\n",
       "1                  3850         3683.23            3564.77          3675.98       -166.77          -285.23        -174.02  3578.6          -271.4\n",
       "2                  3317         3668.71            3506.69          3639.94        351.71           189.69         322.94  3591.2           274.2\n",
       "3                  4933         4473.37            4378.15          4448.86       -459.63          -554.85        -484.14  4189.4          -743.6\n",
       "4                  2637         2956.57            2910.97          2963.53        319.57           273.97         326.53  3140.0           503.0"
      ]
     },
     "execution_count": 63,
     "metadata": {},
     "output_type": "execute_result"
    }
   ],
   "source": [
    "prediction_file  = './__model_results/linear_model_predictions.xlsx'\n",
    "predictions = pd.read_excel(prediction_file)\n",
    "\n",
    "# converting model_performance into a DataFrame\n",
    "knn_predictions = pd.DataFrame({\n",
    "    'KNN' : knn_stand_pred.round(decimals = 2),\n",
    "    'KNN Deviations' : knn_stand_pred.round(decimals = 2) - predictions['Original Sale Prices']})\n",
    "\n",
    "\n",
    "# concatenating with former performance DataFrame\n",
    "all_predictions = pd.concat([predictions, knn_predictions],\n",
    "                              axis = 1)\n",
    "\n",
    "\n",
    "# sending model results to Excel\n",
    "all_predictions.to_excel('./__datasets/linear_model_performance.xlsx',\n",
    "                           index = False)\n",
    "\n",
    "\n",
    "# checking the results\n",
    "all_predictions.head(n = 5)"
   ]
  }
 ],
 "metadata": {
  "kernelspec": {
   "display_name": "Python 3 (ipykernel)",
   "language": "python",
   "name": "python3"
  },
  "language_info": {
   "codemirror_mode": {
    "name": "ipython",
    "version": 3
   },
   "file_extension": ".py",
   "mimetype": "text/x-python",
   "name": "python",
   "nbconvert_exporter": "python",
   "pygments_lexer": "ipython3",
   "version": "3.8.8"
  },
  "toc": {
   "base_numbering": 1,
   "nav_menu": {},
   "number_sections": true,
   "sideBar": true,
   "skip_h1_title": false,
   "title_cell": "Table of Contents",
   "title_sidebar": "Contents",
   "toc_cell": false,
   "toc_position": {},
   "toc_section_display": true,
   "toc_window_display": false
  },
  "varInspector": {
   "cols": {
    "lenName": 16,
    "lenType": 16,
    "lenVar": 40
   },
   "kernels_config": {
    "python": {
     "delete_cmd_postfix": "",
     "delete_cmd_prefix": "del ",
     "library": "var_list.py",
     "varRefreshCmd": "print(var_dic_list())"
    },
    "r": {
     "delete_cmd_postfix": ") ",
     "delete_cmd_prefix": "rm(",
     "library": "var_list.r",
     "varRefreshCmd": "cat(var_dic_list()) "
    }
   },
   "types_to_exclude": [
    "module",
    "function",
    "builtin_function_or_method",
    "instance",
    "_Feature"
   ],
   "window_display": false
  }
 },
 "nbformat": 4,
 "nbformat_minor": 5
}
